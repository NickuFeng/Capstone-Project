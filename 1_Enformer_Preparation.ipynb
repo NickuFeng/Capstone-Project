{
  "cells": [
    {
      "cell_type": "markdown",
      "metadata": {
        "id": "view-in-github",
        "colab_type": "text"
      },
      "source": [
        "<a href=\"https://colab.research.google.com/github/NickuFeng/Capstone-Project/blob/main/1_Enformer_Preparation.ipynb\" target=\"_parent\"><img src=\"https://colab.research.google.com/assets/colab-badge.svg\" alt=\"Open In Colab\"/></a>"
      ]
    },
    {
      "cell_type": "markdown",
      "metadata": {
        "tags": [],
        "id": "pN2aNsBWd2Ph"
      },
      "source": [
        "## Introduction\n",
        "\n",
        "This notebook demonstrates how to prepare the input data for the Enformer model to predict gene expression on a GEUVADIS/1000 genomes dataset."
      ]
    },
    {
      "cell_type": "markdown",
      "metadata": {
        "id": "ickvq5_EYpvK"
      },
      "source": [
        "Enformer's input is a single strand genome sequence. Yet, we are interested in predicting on population level data which includes individual-specific variation. To get around this limitation, we will treat each individual as the sum of their haplotypes. Using the phased variant data around each gene (stored in the variant bed files) to modify the reference sequence, we can create two distinct haplotype sequences for each individual. The sum of both of Enformer's haplotype predictions serves as an individual-specific, additive estimate which we can correlate with true predictions. Together, the files we downloaded give us all the information we need to build these haplotype sequences. \n",
        "\n",
        "Although enformer predicts a wide array of functional output, we will focus here on gene expression in lymphoblastoid cells allowing for correlation against ground truth Geuvadis gene expression data."
      ]
    },
    {
      "cell_type": "markdown",
      "metadata": {
        "id": "si-w2NPretDg",
        "tags": []
      },
      "source": [
        "### Major Steps\n",
        "\n",
        "- Set up the environment\n",
        "- Download some the necessary files to begin with\n",
        "- Randomly select 100 target genes\n",
        "- Randomly select 120 individuals"
      ]
    },
    {
      "cell_type": "markdown",
      "metadata": {
        "id": "wCCJsjaHwTYC"
      },
      "source": [
        "## Setup"
      ]
    },
    {
      "cell_type": "markdown",
      "metadata": {
        "id": "MCDk7UQPG0Lr"
      },
      "source": [
        "### Setting up our environments"
      ]
    },
    {
      "cell_type": "markdown",
      "metadata": {
        "id": "QTi5WYntpAoA"
      },
      "source": [
        "Import packages that we need later. "
      ]
    },
    {
      "cell_type": "code",
      "source": [
        "pip install pyfaidx"
      ],
      "metadata": {
        "colab": {
          "base_uri": "https://localhost:8080/"
        },
        "id": "BNY84bP2pRyK",
        "outputId": "e01b2e37-456d-4b54-fdc2-cb72280495ff"
      },
      "execution_count": null,
      "outputs": [
        {
          "output_type": "stream",
          "name": "stdout",
          "text": [
            "Looking in indexes: https://pypi.org/simple, https://us-python.pkg.dev/colab-wheels/public/simple/\n",
            "Requirement already satisfied: pyfaidx in /usr/local/lib/python3.7/dist-packages (0.7.0)\n",
            "Requirement already satisfied: setuptools>=0.7 in /usr/local/lib/python3.7/dist-packages (from pyfaidx) (57.4.0)\n",
            "Requirement already satisfied: six in /usr/local/lib/python3.7/dist-packages (from pyfaidx) (1.15.0)\n"
          ]
        }
      ]
    },
    {
      "cell_type": "code",
      "execution_count": null,
      "metadata": {
        "id": "NRI9KisU11bM"
      },
      "outputs": [],
      "source": [
        "import joblib\n",
        "import gzip # for manipulating compressed files\n",
        "import pyfaidx # to index our reference genome file\n",
        "import pandas as pd # for manipulating dataframes\n",
        "import numpy as np # for numerical computations\n",
        "import pickle # for saving large objects\n",
        "import os, sys # functions for interacting with the operating system\n",
        "import random  \n",
        "import glob\n",
        "\n",
        "%config InlineBackend.figure_format = 'retina'"
      ]
    },
    {
      "cell_type": "markdown",
      "source": [
        "connect to Google Drive to store results and data pernemently in cloud.   "
      ],
      "metadata": {
        "id": "Okr-qQcb4ZvZ"
      }
    },
    {
      "cell_type": "code",
      "execution_count": null,
      "metadata": {
        "colab": {
          "base_uri": "https://localhost:8080/"
        },
        "id": "kTzF3SHvWYFY",
        "outputId": "a35a21af-7f8e-46b4-eb80-c567be586f3f"
      },
      "outputs": [
        {
          "output_type": "stream",
          "name": "stdout",
          "text": [
            "Drive already mounted at /content/drive; to attempt to forcibly remount, call drive.mount(\"/content/drive\", force_remount=True).\n"
          ]
        }
      ],
      "source": [
        "from google.colab import drive\n",
        "drive.mount('/content/drive')"
      ]
    },
    {
      "cell_type": "markdown",
      "metadata": {
        "id": "BOCpY-KSWfT2"
      },
      "source": [
        "Create a folder called \"Capstone_Project_2022\" "
      ]
    },
    {
      "cell_type": "code",
      "execution_count": null,
      "metadata": {
        "id": "EIOrkP_aXM7f"
      },
      "outputs": [],
      "source": [
        "if not os.path.exists(\"/content/drive/MyDrive/Capstone_Project_2022/results/\"):\n",
        "  !mkdir -p \"/content/drive/MyDrive/Capstone_Project_2022/results/\""
      ]
    },
    {
      "cell_type": "code",
      "execution_count": null,
      "metadata": {
        "id": "lThC04sKMty_"
      },
      "outputs": [],
      "source": [
        "local_path = '/content/drive/MyDrive/Capstone_Project_2022/'"
      ]
    },
    {
      "cell_type": "code",
      "execution_count": null,
      "metadata": {
        "id": "g0F1A9AaCrkQ"
      },
      "outputs": [],
      "source": [
        "transform_path = 'gs://dm-enformer/models/enformer.finetuned.SAD.robustscaler-PCA500-robustscaler.transform.pkl'\n",
        "model_path = 'https://tfhub.dev/deepmind/enformer/1'\n",
        "fasta_file = local_path+'genome.fa'"
      ]
    },
    {
      "cell_type": "markdown",
      "metadata": {
        "id": "kzSr0Jwbpqae"
      },
      "source": [
        "We may inspect the tracks used to train the model. The CAGE prediction corresponding to B lymphoblastoid cell line is index 5110. We use B lymphoblastoid cell line predictions here because that is the cell line used to generate GEUVADIS gene expression data. You can copy the https link, paste in another tab in your browser and look through the large txt file for other tracks. \n",
        "\n",
        "For more information about how Enformer works, check out their [article](https://www.deepmind.com/blog/predicting-gene-expression-with-ai)."
      ]
    },
    {
      "cell_type": "code",
      "execution_count": null,
      "metadata": {
        "colab": {
          "base_uri": "https://localhost:8080/",
          "height": 142
        },
        "id": "OlE6JAVfI08a",
        "outputId": "431c31b6-3fe3-4212-d39c-340593a3cd31"
      },
      "outputs": [
        {
          "output_type": "execute_result",
          "data": {
            "text/plain": [
              "      index  genome identifier  \\\n",
              "5110   5110       0  CNhs12333   \n",
              "\n",
              "                                                   file  clip  scale sum_stat  \\\n",
              "5110  /home/drk/tillage/datasets/human/cage/fantom/C...   384      1      sum   \n",
              "\n",
              "                                            description  \n",
              "5110  CAGE:B lymphoblastoid cell line: GM12878 ENCOD...  "
            ],
            "text/html": [
              "\n",
              "  <div id=\"df-817c5607-07cd-46d1-a1a9-f4fd774c4d92\">\n",
              "    <div class=\"colab-df-container\">\n",
              "      <div>\n",
              "<style scoped>\n",
              "    .dataframe tbody tr th:only-of-type {\n",
              "        vertical-align: middle;\n",
              "    }\n",
              "\n",
              "    .dataframe tbody tr th {\n",
              "        vertical-align: top;\n",
              "    }\n",
              "\n",
              "    .dataframe thead th {\n",
              "        text-align: right;\n",
              "    }\n",
              "</style>\n",
              "<table border=\"1\" class=\"dataframe\">\n",
              "  <thead>\n",
              "    <tr style=\"text-align: right;\">\n",
              "      <th></th>\n",
              "      <th>index</th>\n",
              "      <th>genome</th>\n",
              "      <th>identifier</th>\n",
              "      <th>file</th>\n",
              "      <th>clip</th>\n",
              "      <th>scale</th>\n",
              "      <th>sum_stat</th>\n",
              "      <th>description</th>\n",
              "    </tr>\n",
              "  </thead>\n",
              "  <tbody>\n",
              "    <tr>\n",
              "      <th>5110</th>\n",
              "      <td>5110</td>\n",
              "      <td>0</td>\n",
              "      <td>CNhs12333</td>\n",
              "      <td>/home/drk/tillage/datasets/human/cage/fantom/C...</td>\n",
              "      <td>384</td>\n",
              "      <td>1</td>\n",
              "      <td>sum</td>\n",
              "      <td>CAGE:B lymphoblastoid cell line: GM12878 ENCOD...</td>\n",
              "    </tr>\n",
              "  </tbody>\n",
              "</table>\n",
              "</div>\n",
              "      <button class=\"colab-df-convert\" onclick=\"convertToInteractive('df-817c5607-07cd-46d1-a1a9-f4fd774c4d92')\"\n",
              "              title=\"Convert this dataframe to an interactive table.\"\n",
              "              style=\"display:none;\">\n",
              "        \n",
              "  <svg xmlns=\"http://www.w3.org/2000/svg\" height=\"24px\"viewBox=\"0 0 24 24\"\n",
              "       width=\"24px\">\n",
              "    <path d=\"M0 0h24v24H0V0z\" fill=\"none\"/>\n",
              "    <path d=\"M18.56 5.44l.94 2.06.94-2.06 2.06-.94-2.06-.94-.94-2.06-.94 2.06-2.06.94zm-11 1L8.5 8.5l.94-2.06 2.06-.94-2.06-.94L8.5 2.5l-.94 2.06-2.06.94zm10 10l.94 2.06.94-2.06 2.06-.94-2.06-.94-.94-2.06-.94 2.06-2.06.94z\"/><path d=\"M17.41 7.96l-1.37-1.37c-.4-.4-.92-.59-1.43-.59-.52 0-1.04.2-1.43.59L10.3 9.45l-7.72 7.72c-.78.78-.78 2.05 0 2.83L4 21.41c.39.39.9.59 1.41.59.51 0 1.02-.2 1.41-.59l7.78-7.78 2.81-2.81c.8-.78.8-2.07 0-2.86zM5.41 20L4 18.59l7.72-7.72 1.47 1.35L5.41 20z\"/>\n",
              "  </svg>\n",
              "      </button>\n",
              "      \n",
              "  <style>\n",
              "    .colab-df-container {\n",
              "      display:flex;\n",
              "      flex-wrap:wrap;\n",
              "      gap: 12px;\n",
              "    }\n",
              "\n",
              "    .colab-df-convert {\n",
              "      background-color: #E8F0FE;\n",
              "      border: none;\n",
              "      border-radius: 50%;\n",
              "      cursor: pointer;\n",
              "      display: none;\n",
              "      fill: #1967D2;\n",
              "      height: 32px;\n",
              "      padding: 0 0 0 0;\n",
              "      width: 32px;\n",
              "    }\n",
              "\n",
              "    .colab-df-convert:hover {\n",
              "      background-color: #E2EBFA;\n",
              "      box-shadow: 0px 1px 2px rgba(60, 64, 67, 0.3), 0px 1px 3px 1px rgba(60, 64, 67, 0.15);\n",
              "      fill: #174EA6;\n",
              "    }\n",
              "\n",
              "    [theme=dark] .colab-df-convert {\n",
              "      background-color: #3B4455;\n",
              "      fill: #D2E3FC;\n",
              "    }\n",
              "\n",
              "    [theme=dark] .colab-df-convert:hover {\n",
              "      background-color: #434B5C;\n",
              "      box-shadow: 0px 1px 3px 1px rgba(0, 0, 0, 0.15);\n",
              "      filter: drop-shadow(0px 1px 2px rgba(0, 0, 0, 0.3));\n",
              "      fill: #FFFFFF;\n",
              "    }\n",
              "  </style>\n",
              "\n",
              "      <script>\n",
              "        const buttonEl =\n",
              "          document.querySelector('#df-817c5607-07cd-46d1-a1a9-f4fd774c4d92 button.colab-df-convert');\n",
              "        buttonEl.style.display =\n",
              "          google.colab.kernel.accessAllowed ? 'block' : 'none';\n",
              "\n",
              "        async function convertToInteractive(key) {\n",
              "          const element = document.querySelector('#df-817c5607-07cd-46d1-a1a9-f4fd774c4d92');\n",
              "          const dataTable =\n",
              "            await google.colab.kernel.invokeFunction('convertToInteractive',\n",
              "                                                     [key], {});\n",
              "          if (!dataTable) return;\n",
              "\n",
              "          const docLinkHtml = 'Like what you see? Visit the ' +\n",
              "            '<a target=\"_blank\" href=https://colab.research.google.com/notebooks/data_table.ipynb>data table notebook</a>'\n",
              "            + ' to learn more about interactive tables.';\n",
              "          element.innerHTML = '';\n",
              "          dataTable['output_type'] = 'display_data';\n",
              "          await google.colab.output.renderOutput(dataTable, element);\n",
              "          const docLink = document.createElement('div');\n",
              "          docLink.innerHTML = docLinkHtml;\n",
              "          element.appendChild(docLink);\n",
              "        }\n",
              "      </script>\n",
              "    </div>\n",
              "  </div>\n",
              "  "
            ]
          },
          "metadata": {},
          "execution_count": 78
        }
      ],
      "source": [
        "# Download targets from Basenji2 dataset \n",
        "# Cite: Kelley et al Cross-species regulatory sequence activity prediction. PLoS Comput. Biol. 16, e1008050 (2020).\n",
        "targets_txt = 'https://raw.githubusercontent.com/calico/basenji/master/manuscripts/cross2020/targets_human.txt'\n",
        "df_targets = pd.read_csv(targets_txt, sep='\\t')\n",
        "df_targets[df_targets.index==5110]"
      ]
    },
    {
      "cell_type": "markdown",
      "metadata": {
        "id": "Q8ZhswycGux3"
      },
      "source": [
        "# Download Files"
      ]
    },
    {
      "cell_type": "markdown",
      "metadata": {
        "id": "dowTJknFJOHu"
      },
      "source": [
        "\n",
        "We need to download some files to continue our preparation process. Give it a moment. \n",
        "We will download the following files:\n",
        "- The reference genome fasta file (we will also index this file in the process)\n",
        "- A text file for the transcription start sites for each chromosome \n",
        "- Per chromosome files that has annotation for the genes\n",
        "- A compressed file that contains the variant bed files for the genes and their locations. \n",
        "\n",
        "Credit to Genome Reference Consortium: https://www.ncbi.nlm.nih.gov/grc\n",
        "\n",
        "Schneider et al 2017 http://dx.doi.org/10.1101/gr.213611.116: Evaluation of GRCh38 and de novo haploid genome assemblies demonstrates the enduring quality of the reference assembly"
      ]
    },
    {
      "cell_type": "markdown",
      "metadata": {
        "id": "GvWsL_rhTJkE"
      },
      "source": [
        "Make a data directory, and download the necessary bed files and chromosome annotation files"
      ]
    },
    {
      "cell_type": "code",
      "source": [
        "if not os.path.exists('/content/drive/MyDrive/Capstone_Project_2022/data'):\n",
        "  !mkdir -p '/content/drive/MyDrive/Capstone_Project_2022/data'"
      ],
      "metadata": {
        "id": "VGL5gV8953ad"
      },
      "execution_count": null,
      "outputs": []
    },
    {
      "cell_type": "markdown",
      "metadata": {
        "id": "LmnnSfMYYfOO"
      },
      "source": [
        "The next line of code will download the reference genome fasta file and index this file. "
      ]
    },
    {
      "cell_type": "code",
      "execution_count": null,
      "metadata": {
        "id": "1PJ8US7ojKKJ"
      },
      "outputs": [],
      "source": [
        "# reference genome and indexed\n",
        "if not os.path.exists('/content/drive/MyDrive/Capstone_Project_2022/genome.fa'):\n",
        "  !wget -O - https://hgdownload.soe.ucsc.edu/goldenPath/hg19/bigZips/hg19.fa.gz | gunzip -c > {fasta_file}\n",
        "  pyfaidx.Faidx(fasta_file)"
      ]
    },
    {
      "cell_type": "markdown",
      "metadata": {
        "id": "zDSrPVKSeZW7"
      },
      "source": [
        "#### Download Transcription Starting Site file"
      ]
    },
    {
      "cell_type": "markdown",
      "metadata": {
        "id": "4qX4ZOm7crbE"
      },
      "source": [
        "In the next block of code, we download the TSS for each chromosome and the genes in that chromosome, as wells as the per chromosome gene annotations. We need this information to estimate predictions. \n"
      ]
    },
    {
      "cell_type": "code",
      "execution_count": null,
      "metadata": {
        "colab": {
          "base_uri": "https://localhost:8080/"
        },
        "id": "a1v40z8k5q1f",
        "outputId": "62c9fbbb-6f8c-49af-8a63-793f8d0f398a"
      },
      "outputs": [
        {
          "output_type": "stream",
          "name": "stdout",
          "text": [
            "  % Total    % Received % Xferd  Average Speed   Time    Time     Time  Current\n",
            "                                 Dload  Upload   Total   Spent    Left  Speed\n",
            "  0     0    0     0    0     0      0      0 --:--:-- --:--:-- --:--:--     0\n",
            "  0     0    0     0    0     0      0      0 --:--:-- --:--:-- --:--:--     0\n",
            "100     7    0     7    0     0      3      0 --:--:--  0:00:01 --:--:--     8\n",
            "100 1783k  100 1783k    0     0   625k      0  0:00:02  0:00:02 --:--:-- 1811k\n",
            "  % Total    % Received % Xferd  Average Speed   Time    Time     Time  Current\n",
            "                                 Dload  Upload   Total   Spent    Left  Speed\n",
            "  0     0    0     0    0     0      0      0 --:--:-- --:--:-- --:--:--     0\n",
            "  0     0    0     0    0     0      0      0 --:--:-- --:--:-- --:--:--     0\n",
            "100     6    0     6    0     0      3      0 --:--:--  0:00:01 --:--:--     5\n",
            "100  728k  100  728k    0     0   235k      0  0:00:03  0:00:03 --:--:-- 1417k\n"
          ]
        }
      ],
      "source": [
        "if not os.path.exists(\"/content/drive/MyDrive/Capstone_Project_2022/data/gene_chroms\"):\n",
        "  !mkdir -p /content/drive/MyDrive/Capstone_Project_2022/data/gene_chroms #creates a folder to hold our files\n",
        "\n",
        "!curl -L https://uchicago.box.com/shared/static/perc3uabzzd267cbp8zc0inwgrmur7pu.gz --output /content/drive/MyDrive/Capstone_Project_2022/data/chr_tss.tar.xz && cd /content/drive/MyDrive/Capstone_Project_2022/data/ && tar -zxf /content/drive/MyDrive/Capstone_Project_2022/data/chr_tss.tar.xz\n",
        "\n",
        "!curl -L https://uchicago.box.com/shared/static/e2kiwrjlgqqio0pc37a2iz7l5bqbv57u.gz --output /content/drive/MyDrive/Capstone_Project_2022/data/gene_chroms/gene_chroms.tar.gz && cd /content/drive/MyDrive/Capstone_Project_2022/data/gene_chroms/ && tar -zxf /content/drive/MyDrive/Capstone_Project_2022/data/gene_chroms/gene_chroms.tar.gz\n"
      ]
    },
    {
      "cell_type": "markdown",
      "metadata": {
        "id": "CDwLc_Zv1S9r"
      },
      "source": [
        "# Randomly Select target genes"
      ]
    },
    {
      "cell_type": "markdown",
      "metadata": {
        "id": "xbfSEX09iIG6"
      },
      "source": [
        "## Randomly select 100 genes"
      ]
    },
    {
      "cell_type": "markdown",
      "metadata": {
        "id": "bU0utt_Rkzia"
      },
      "source": [
        "Randomly select 100 genes from the all_genes.tsv (included in the zipped file chr_tss.gz). This is a tsv file including all the gene names that we have corresponding information."
      ]
    },
    {
      "cell_type": "code",
      "execution_count": null,
      "metadata": {
        "id": "tAk1LbcF4CTz",
        "colab": {
          "base_uri": "https://localhost:8080/"
        },
        "outputId": "1a01b081-4819-46ce-c419-ece2f40999ec"
      },
      "outputs": [
        {
          "output_type": "execute_result",
          "data": {
            "text/plain": [
              "['PEX10', 'TMEM69', 'ATAD3A', 'BPNT1', 'SNIP1']"
            ]
          },
          "metadata": {},
          "execution_count": 82
        }
      ],
      "source": [
        "with open(\"/content/drive/MyDrive/Capstone_Project_2022/data/all_genes.tsv\", \"r\") as ag:\n",
        "  all_genes = [line.strip() for line in ag]\n",
        "all_genes[0:5]"
      ]
    },
    {
      "cell_type": "markdown",
      "source": [
        "now we ranodmly select our 100 target genes for this project."
      ],
      "metadata": {
        "id": "sj9WLdurKezo"
      }
    },
    {
      "cell_type": "code",
      "execution_count": null,
      "metadata": {
        "colab": {
          "base_uri": "https://localhost:8080/"
        },
        "id": "Myou2_kCiNRB",
        "outputId": "4489e3b3-6425-4b2f-b4cc-345170722164"
      },
      "outputs": [
        {
          "output_type": "stream",
          "name": "stdout",
          "text": [
            "100\n"
          ]
        },
        {
          "output_type": "execute_result",
          "data": {
            "text/plain": [
              "['SERPINB1', 'KBTBD2', 'GCDH', 'ZNF493', 'MANBA']"
            ]
          },
          "metadata": {},
          "execution_count": 83
        }
      ],
      "source": [
        "random.seed(13) \n",
        "target_genes = random.sample(all_genes, k=100)\n",
        "print(len(target_genes))\n",
        "target_genes[0:5]"
      ]
    },
    {
      "cell_type": "markdown",
      "metadata": {
        "id": "Qk5clL8npL42"
      },
      "source": [
        "## Gather all gene, chromosome, TSS start & end position"
      ]
    },
    {
      "cell_type": "markdown",
      "source": [
        "Now we have all the genes we are interested in. Let's prepare their corresponding chromosome, TSS start and end position information for future use."
      ],
      "metadata": {
        "id": "6Ukfr-WJLKMv"
      }
    },
    {
      "cell_type": "markdown",
      "source": [
        "Match all files, excluding gene_Y, gene_M, and gene_chr because they are either not useful or we do not have the matching bed file provided from the uchicago resource."
      ],
      "metadata": {
        "id": "Bbvpz1VwHiF0"
      }
    },
    {
      "cell_type": "code",
      "execution_count": null,
      "metadata": {
        "id": "d94klonSDimr"
      },
      "outputs": [],
      "source": [
        "path = \"/content/drive/MyDrive/Capstone_Project_2022/data/gene_chroms/gene_\"\n",
        "all_files = glob.glob(path + \"*.txt\") # match all files ending with gene_ \n",
        "all_files.remove('/content/drive/MyDrive/Capstone_Project_2022/data/gene_chroms/gene_chr.txt') # remove because this is only a header\n",
        "all_files.remove('/content/drive/MyDrive/Capstone_Project_2022/data/gene_chroms/gene_Y.txt')  # remove because no bed file avaliable for this gene\n",
        "all_files.remove('/content/drive/MyDrive/Capstone_Project_2022/data/gene_chroms/gene_M.txt')  # remove because no bed file avaliable for this gene\n",
        "\n"
      ]
    },
    {
      "cell_type": "markdown",
      "source": [
        "We create a dataframe and store it if we have not yet. This dataframe contains all the gene information we have, specefically the chromosome the gene is located, the gene name, and its start and end position."
      ],
      "metadata": {
        "id": "tMML2yU_InI1"
      }
    },
    {
      "cell_type": "code",
      "execution_count": null,
      "metadata": {
        "id": "8U9ZzkmHQ07H"
      },
      "outputs": [],
      "source": [
        "gene_chrom_header = ['chr',\t'gene_id','gene_name','start','end','gene_type'] # set a header\n",
        "appended_data = []\n",
        "for filenames in all_files:\n",
        "  df = pd.read_csv(filenames ,header=None, names=gene_chrom_header, usecols=['chr','gene_name','start','end'] ,delimiter='\\t')\n",
        "    # store DataFrame in list\n",
        "  appended_data.append(df)\n",
        "\n",
        "df_full_gene_chrome = pd.concat(appended_data, ignore_index=True)\n",
        "\n",
        "if not os.path.exists('/content/drive/MyDrive/Capstone_Project_2022/data/gene_chrom_all.csv'):\n",
        "  df_full_gene_chrome.to_csv('/content/drive/MyDrive/Capstone_Project_2022/data/gene_chrom_all.csv')\n",
        "else:\n",
        "  df_full_gene_chrome = pd.read_csv('/content/drive/MyDrive/Capstone_Project_2022/data/gene_chrom_all.csv', index_col = 'Unnamed: 0')\n"
      ]
    },
    {
      "cell_type": "markdown",
      "source": [
        "This dataframe containg all genes' related info."
      ],
      "metadata": {
        "id": "Q6IcH8rmLplO"
      }
    },
    {
      "cell_type": "code",
      "source": [
        "df_full_gene_chrome.shape"
      ],
      "metadata": {
        "colab": {
          "base_uri": "https://localhost:8080/"
        },
        "id": "ZLTQkU7uMKMJ",
        "outputId": "a0e43148-fba7-47d9-fe60-e4c2f54b0b70"
      },
      "execution_count": null,
      "outputs": [
        {
          "output_type": "execute_result",
          "data": {
            "text/plain": [
              "(20025, 4)"
            ]
          },
          "metadata": {},
          "execution_count": 86
        }
      ]
    },
    {
      "cell_type": "code",
      "execution_count": null,
      "metadata": {
        "colab": {
          "base_uri": "https://localhost:8080/",
          "height": 143
        },
        "id": "ko9eeIhwObbp",
        "outputId": "d4f5dcb2-6594-474a-f701-80415af4fc47"
      },
      "outputs": [
        {
          "output_type": "execute_result",
          "data": {
            "text/plain": [
              "  chr   gene_name   start     end\n",
              "0  10       TUBB8   92828   96053\n",
              "1  10     ZMYND11  180405  300577\n",
              "2  10  AL589988.1  225953  295049"
            ],
            "text/html": [
              "\n",
              "  <div id=\"df-a8fd3735-e990-4c85-bcd4-f51ba9424e6a\">\n",
              "    <div class=\"colab-df-container\">\n",
              "      <div>\n",
              "<style scoped>\n",
              "    .dataframe tbody tr th:only-of-type {\n",
              "        vertical-align: middle;\n",
              "    }\n",
              "\n",
              "    .dataframe tbody tr th {\n",
              "        vertical-align: top;\n",
              "    }\n",
              "\n",
              "    .dataframe thead th {\n",
              "        text-align: right;\n",
              "    }\n",
              "</style>\n",
              "<table border=\"1\" class=\"dataframe\">\n",
              "  <thead>\n",
              "    <tr style=\"text-align: right;\">\n",
              "      <th></th>\n",
              "      <th>chr</th>\n",
              "      <th>gene_name</th>\n",
              "      <th>start</th>\n",
              "      <th>end</th>\n",
              "    </tr>\n",
              "  </thead>\n",
              "  <tbody>\n",
              "    <tr>\n",
              "      <th>0</th>\n",
              "      <td>10</td>\n",
              "      <td>TUBB8</td>\n",
              "      <td>92828</td>\n",
              "      <td>96053</td>\n",
              "    </tr>\n",
              "    <tr>\n",
              "      <th>1</th>\n",
              "      <td>10</td>\n",
              "      <td>ZMYND11</td>\n",
              "      <td>180405</td>\n",
              "      <td>300577</td>\n",
              "    </tr>\n",
              "    <tr>\n",
              "      <th>2</th>\n",
              "      <td>10</td>\n",
              "      <td>AL589988.1</td>\n",
              "      <td>225953</td>\n",
              "      <td>295049</td>\n",
              "    </tr>\n",
              "  </tbody>\n",
              "</table>\n",
              "</div>\n",
              "      <button class=\"colab-df-convert\" onclick=\"convertToInteractive('df-a8fd3735-e990-4c85-bcd4-f51ba9424e6a')\"\n",
              "              title=\"Convert this dataframe to an interactive table.\"\n",
              "              style=\"display:none;\">\n",
              "        \n",
              "  <svg xmlns=\"http://www.w3.org/2000/svg\" height=\"24px\"viewBox=\"0 0 24 24\"\n",
              "       width=\"24px\">\n",
              "    <path d=\"M0 0h24v24H0V0z\" fill=\"none\"/>\n",
              "    <path d=\"M18.56 5.44l.94 2.06.94-2.06 2.06-.94-2.06-.94-.94-2.06-.94 2.06-2.06.94zm-11 1L8.5 8.5l.94-2.06 2.06-.94-2.06-.94L8.5 2.5l-.94 2.06-2.06.94zm10 10l.94 2.06.94-2.06 2.06-.94-2.06-.94-.94-2.06-.94 2.06-2.06.94z\"/><path d=\"M17.41 7.96l-1.37-1.37c-.4-.4-.92-.59-1.43-.59-.52 0-1.04.2-1.43.59L10.3 9.45l-7.72 7.72c-.78.78-.78 2.05 0 2.83L4 21.41c.39.39.9.59 1.41.59.51 0 1.02-.2 1.41-.59l7.78-7.78 2.81-2.81c.8-.78.8-2.07 0-2.86zM5.41 20L4 18.59l7.72-7.72 1.47 1.35L5.41 20z\"/>\n",
              "  </svg>\n",
              "      </button>\n",
              "      \n",
              "  <style>\n",
              "    .colab-df-container {\n",
              "      display:flex;\n",
              "      flex-wrap:wrap;\n",
              "      gap: 12px;\n",
              "    }\n",
              "\n",
              "    .colab-df-convert {\n",
              "      background-color: #E8F0FE;\n",
              "      border: none;\n",
              "      border-radius: 50%;\n",
              "      cursor: pointer;\n",
              "      display: none;\n",
              "      fill: #1967D2;\n",
              "      height: 32px;\n",
              "      padding: 0 0 0 0;\n",
              "      width: 32px;\n",
              "    }\n",
              "\n",
              "    .colab-df-convert:hover {\n",
              "      background-color: #E2EBFA;\n",
              "      box-shadow: 0px 1px 2px rgba(60, 64, 67, 0.3), 0px 1px 3px 1px rgba(60, 64, 67, 0.15);\n",
              "      fill: #174EA6;\n",
              "    }\n",
              "\n",
              "    [theme=dark] .colab-df-convert {\n",
              "      background-color: #3B4455;\n",
              "      fill: #D2E3FC;\n",
              "    }\n",
              "\n",
              "    [theme=dark] .colab-df-convert:hover {\n",
              "      background-color: #434B5C;\n",
              "      box-shadow: 0px 1px 3px 1px rgba(0, 0, 0, 0.15);\n",
              "      filter: drop-shadow(0px 1px 2px rgba(0, 0, 0, 0.3));\n",
              "      fill: #FFFFFF;\n",
              "    }\n",
              "  </style>\n",
              "\n",
              "      <script>\n",
              "        const buttonEl =\n",
              "          document.querySelector('#df-a8fd3735-e990-4c85-bcd4-f51ba9424e6a button.colab-df-convert');\n",
              "        buttonEl.style.display =\n",
              "          google.colab.kernel.accessAllowed ? 'block' : 'none';\n",
              "\n",
              "        async function convertToInteractive(key) {\n",
              "          const element = document.querySelector('#df-a8fd3735-e990-4c85-bcd4-f51ba9424e6a');\n",
              "          const dataTable =\n",
              "            await google.colab.kernel.invokeFunction('convertToInteractive',\n",
              "                                                     [key], {});\n",
              "          if (!dataTable) return;\n",
              "\n",
              "          const docLinkHtml = 'Like what you see? Visit the ' +\n",
              "            '<a target=\"_blank\" href=https://colab.research.google.com/notebooks/data_table.ipynb>data table notebook</a>'\n",
              "            + ' to learn more about interactive tables.';\n",
              "          element.innerHTML = '';\n",
              "          dataTable['output_type'] = 'display_data';\n",
              "          await google.colab.output.renderOutput(dataTable, element);\n",
              "          const docLink = document.createElement('div');\n",
              "          docLink.innerHTML = docLinkHtml;\n",
              "          element.appendChild(docLink);\n",
              "        }\n",
              "      </script>\n",
              "    </div>\n",
              "  </div>\n",
              "  "
            ]
          },
          "metadata": {},
          "execution_count": 87
        }
      ],
      "source": [
        "df_full_gene_chrome.head(3)"
      ]
    },
    {
      "cell_type": "markdown",
      "source": [
        "Iterate through the target_genes list to get the info that we need and store it in drive."
      ],
      "metadata": {
        "id": "1DPKnYMhL7Tz"
      }
    },
    {
      "cell_type": "code",
      "execution_count": null,
      "metadata": {
        "id": "pk9pIaRypT8U"
      },
      "outputs": [],
      "source": [
        "full_target_genes = []\n",
        "for item in target_genes:\n",
        "  df = df_full_gene_chrome.loc[df_full_gene_chrome.gene_name==item]\n",
        "  full_target_genes.append(df)\n",
        "\n",
        "df_full_target_genes = pd.concat(full_target_genes, ignore_index=True)\n",
        "\n",
        "if not os.path.exists('/content/drive/MyDrive/Capstone_Project_2022/data/target_gene_info.csv'):\n",
        "  df_full_target_genes.to_csv('/content/drive/MyDrive/Capstone_Project_2022/data/target_gene_info.csv')\n",
        "else:\n",
        "  df_full_target_genes = pd.read_csv('/content/drive/MyDrive/Capstone_Project_2022/data/target_gene_info.csv', index_col = 'Unnamed: 0')\n"
      ]
    },
    {
      "cell_type": "code",
      "source": [
        "df_full_target_genes.shape"
      ],
      "metadata": {
        "colab": {
          "base_uri": "https://localhost:8080/"
        },
        "id": "PYnZeavJMNYT",
        "outputId": "8064ca2a-995e-4185-bc63-08bdcf47451f"
      },
      "execution_count": null,
      "outputs": [
        {
          "output_type": "execute_result",
          "data": {
            "text/plain": [
              "(100, 4)"
            ]
          },
          "metadata": {},
          "execution_count": 89
        }
      ]
    },
    {
      "cell_type": "code",
      "execution_count": null,
      "metadata": {
        "colab": {
          "base_uri": "https://localhost:8080/",
          "height": 143
        },
        "id": "DmjFJDY36NdL",
        "outputId": "adae4f3f-edb4-42b9-fb99-64bde1804ee6"
      },
      "outputs": [
        {
          "output_type": "execute_result",
          "data": {
            "text/plain": [
              "   chr gene_name     start       end\n",
              "0    6  SERPINB1   2832566   2842240\n",
              "1    7    KBTBD2  32907784  32933743\n",
              "2   19      GCDH  13001974  13010783"
            ],
            "text/html": [
              "\n",
              "  <div id=\"df-f676d004-191a-4898-86a7-1abcfb183154\">\n",
              "    <div class=\"colab-df-container\">\n",
              "      <div>\n",
              "<style scoped>\n",
              "    .dataframe tbody tr th:only-of-type {\n",
              "        vertical-align: middle;\n",
              "    }\n",
              "\n",
              "    .dataframe tbody tr th {\n",
              "        vertical-align: top;\n",
              "    }\n",
              "\n",
              "    .dataframe thead th {\n",
              "        text-align: right;\n",
              "    }\n",
              "</style>\n",
              "<table border=\"1\" class=\"dataframe\">\n",
              "  <thead>\n",
              "    <tr style=\"text-align: right;\">\n",
              "      <th></th>\n",
              "      <th>chr</th>\n",
              "      <th>gene_name</th>\n",
              "      <th>start</th>\n",
              "      <th>end</th>\n",
              "    </tr>\n",
              "  </thead>\n",
              "  <tbody>\n",
              "    <tr>\n",
              "      <th>0</th>\n",
              "      <td>6</td>\n",
              "      <td>SERPINB1</td>\n",
              "      <td>2832566</td>\n",
              "      <td>2842240</td>\n",
              "    </tr>\n",
              "    <tr>\n",
              "      <th>1</th>\n",
              "      <td>7</td>\n",
              "      <td>KBTBD2</td>\n",
              "      <td>32907784</td>\n",
              "      <td>32933743</td>\n",
              "    </tr>\n",
              "    <tr>\n",
              "      <th>2</th>\n",
              "      <td>19</td>\n",
              "      <td>GCDH</td>\n",
              "      <td>13001974</td>\n",
              "      <td>13010783</td>\n",
              "    </tr>\n",
              "  </tbody>\n",
              "</table>\n",
              "</div>\n",
              "      <button class=\"colab-df-convert\" onclick=\"convertToInteractive('df-f676d004-191a-4898-86a7-1abcfb183154')\"\n",
              "              title=\"Convert this dataframe to an interactive table.\"\n",
              "              style=\"display:none;\">\n",
              "        \n",
              "  <svg xmlns=\"http://www.w3.org/2000/svg\" height=\"24px\"viewBox=\"0 0 24 24\"\n",
              "       width=\"24px\">\n",
              "    <path d=\"M0 0h24v24H0V0z\" fill=\"none\"/>\n",
              "    <path d=\"M18.56 5.44l.94 2.06.94-2.06 2.06-.94-2.06-.94-.94-2.06-.94 2.06-2.06.94zm-11 1L8.5 8.5l.94-2.06 2.06-.94-2.06-.94L8.5 2.5l-.94 2.06-2.06.94zm10 10l.94 2.06.94-2.06 2.06-.94-2.06-.94-.94-2.06-.94 2.06-2.06.94z\"/><path d=\"M17.41 7.96l-1.37-1.37c-.4-.4-.92-.59-1.43-.59-.52 0-1.04.2-1.43.59L10.3 9.45l-7.72 7.72c-.78.78-.78 2.05 0 2.83L4 21.41c.39.39.9.59 1.41.59.51 0 1.02-.2 1.41-.59l7.78-7.78 2.81-2.81c.8-.78.8-2.07 0-2.86zM5.41 20L4 18.59l7.72-7.72 1.47 1.35L5.41 20z\"/>\n",
              "  </svg>\n",
              "      </button>\n",
              "      \n",
              "  <style>\n",
              "    .colab-df-container {\n",
              "      display:flex;\n",
              "      flex-wrap:wrap;\n",
              "      gap: 12px;\n",
              "    }\n",
              "\n",
              "    .colab-df-convert {\n",
              "      background-color: #E8F0FE;\n",
              "      border: none;\n",
              "      border-radius: 50%;\n",
              "      cursor: pointer;\n",
              "      display: none;\n",
              "      fill: #1967D2;\n",
              "      height: 32px;\n",
              "      padding: 0 0 0 0;\n",
              "      width: 32px;\n",
              "    }\n",
              "\n",
              "    .colab-df-convert:hover {\n",
              "      background-color: #E2EBFA;\n",
              "      box-shadow: 0px 1px 2px rgba(60, 64, 67, 0.3), 0px 1px 3px 1px rgba(60, 64, 67, 0.15);\n",
              "      fill: #174EA6;\n",
              "    }\n",
              "\n",
              "    [theme=dark] .colab-df-convert {\n",
              "      background-color: #3B4455;\n",
              "      fill: #D2E3FC;\n",
              "    }\n",
              "\n",
              "    [theme=dark] .colab-df-convert:hover {\n",
              "      background-color: #434B5C;\n",
              "      box-shadow: 0px 1px 3px 1px rgba(0, 0, 0, 0.15);\n",
              "      filter: drop-shadow(0px 1px 2px rgba(0, 0, 0, 0.3));\n",
              "      fill: #FFFFFF;\n",
              "    }\n",
              "  </style>\n",
              "\n",
              "      <script>\n",
              "        const buttonEl =\n",
              "          document.querySelector('#df-f676d004-191a-4898-86a7-1abcfb183154 button.colab-df-convert');\n",
              "        buttonEl.style.display =\n",
              "          google.colab.kernel.accessAllowed ? 'block' : 'none';\n",
              "\n",
              "        async function convertToInteractive(key) {\n",
              "          const element = document.querySelector('#df-f676d004-191a-4898-86a7-1abcfb183154');\n",
              "          const dataTable =\n",
              "            await google.colab.kernel.invokeFunction('convertToInteractive',\n",
              "                                                     [key], {});\n",
              "          if (!dataTable) return;\n",
              "\n",
              "          const docLinkHtml = 'Like what you see? Visit the ' +\n",
              "            '<a target=\"_blank\" href=https://colab.research.google.com/notebooks/data_table.ipynb>data table notebook</a>'\n",
              "            + ' to learn more about interactive tables.';\n",
              "          element.innerHTML = '';\n",
              "          dataTable['output_type'] = 'display_data';\n",
              "          await google.colab.output.renderOutput(dataTable, element);\n",
              "          const docLink = document.createElement('div');\n",
              "          docLink.innerHTML = docLinkHtml;\n",
              "          element.appendChild(docLink);\n",
              "        }\n",
              "      </script>\n",
              "    </div>\n",
              "  </div>\n",
              "  "
            ]
          },
          "metadata": {},
          "execution_count": 90
        }
      ],
      "source": [
        "df_full_target_genes.head(3)"
      ]
    },
    {
      "cell_type": "markdown",
      "metadata": {
        "id": "o9KXJ6xu57Zp"
      },
      "source": [
        "## Download bed file for each selected gene"
      ]
    },
    {
      "cell_type": "markdown",
      "metadata": {
        "id": "r9aglFj2vOpB"
      },
      "source": [
        "The next lines of code will download the variation bed files, and we have created links to help us download the variation bed files for each chromosome, for each gene."
      ]
    },
    {
      "cell_type": "code",
      "execution_count": null,
      "metadata": {
        "id": "WzCvzPVjbRI_",
        "colab": {
          "base_uri": "https://localhost:8080/",
          "height": 175
        },
        "outputId": "437688fd-3db7-4737-92ca-547bbc3a0f86"
      },
      "outputs": [
        {
          "output_type": "execute_result",
          "data": {
            "text/plain": [
              "       chroms                                               link\n",
              "chroms                                                          \n",
              "1           1  https://uchicago.box.com/shared/static/9q9n4a0...\n",
              "2           2  https://uchicago.box.com/shared/static/1tk6a3f...\n",
              "3           3  https://uchicago.box.com/shared/static/77ldwqq..."
            ],
            "text/html": [
              "\n",
              "  <div id=\"df-8b425228-c81a-4159-a400-f301f406a488\">\n",
              "    <div class=\"colab-df-container\">\n",
              "      <div>\n",
              "<style scoped>\n",
              "    .dataframe tbody tr th:only-of-type {\n",
              "        vertical-align: middle;\n",
              "    }\n",
              "\n",
              "    .dataframe tbody tr th {\n",
              "        vertical-align: top;\n",
              "    }\n",
              "\n",
              "    .dataframe thead th {\n",
              "        text-align: right;\n",
              "    }\n",
              "</style>\n",
              "<table border=\"1\" class=\"dataframe\">\n",
              "  <thead>\n",
              "    <tr style=\"text-align: right;\">\n",
              "      <th></th>\n",
              "      <th>chroms</th>\n",
              "      <th>link</th>\n",
              "    </tr>\n",
              "    <tr>\n",
              "      <th>chroms</th>\n",
              "      <th></th>\n",
              "      <th></th>\n",
              "    </tr>\n",
              "  </thead>\n",
              "  <tbody>\n",
              "    <tr>\n",
              "      <th>1</th>\n",
              "      <td>1</td>\n",
              "      <td>https://uchicago.box.com/shared/static/9q9n4a0...</td>\n",
              "    </tr>\n",
              "    <tr>\n",
              "      <th>2</th>\n",
              "      <td>2</td>\n",
              "      <td>https://uchicago.box.com/shared/static/1tk6a3f...</td>\n",
              "    </tr>\n",
              "    <tr>\n",
              "      <th>3</th>\n",
              "      <td>3</td>\n",
              "      <td>https://uchicago.box.com/shared/static/77ldwqq...</td>\n",
              "    </tr>\n",
              "  </tbody>\n",
              "</table>\n",
              "</div>\n",
              "      <button class=\"colab-df-convert\" onclick=\"convertToInteractive('df-8b425228-c81a-4159-a400-f301f406a488')\"\n",
              "              title=\"Convert this dataframe to an interactive table.\"\n",
              "              style=\"display:none;\">\n",
              "        \n",
              "  <svg xmlns=\"http://www.w3.org/2000/svg\" height=\"24px\"viewBox=\"0 0 24 24\"\n",
              "       width=\"24px\">\n",
              "    <path d=\"M0 0h24v24H0V0z\" fill=\"none\"/>\n",
              "    <path d=\"M18.56 5.44l.94 2.06.94-2.06 2.06-.94-2.06-.94-.94-2.06-.94 2.06-2.06.94zm-11 1L8.5 8.5l.94-2.06 2.06-.94-2.06-.94L8.5 2.5l-.94 2.06-2.06.94zm10 10l.94 2.06.94-2.06 2.06-.94-2.06-.94-.94-2.06-.94 2.06-2.06.94z\"/><path d=\"M17.41 7.96l-1.37-1.37c-.4-.4-.92-.59-1.43-.59-.52 0-1.04.2-1.43.59L10.3 9.45l-7.72 7.72c-.78.78-.78 2.05 0 2.83L4 21.41c.39.39.9.59 1.41.59.51 0 1.02-.2 1.41-.59l7.78-7.78 2.81-2.81c.8-.78.8-2.07 0-2.86zM5.41 20L4 18.59l7.72-7.72 1.47 1.35L5.41 20z\"/>\n",
              "  </svg>\n",
              "      </button>\n",
              "      \n",
              "  <style>\n",
              "    .colab-df-container {\n",
              "      display:flex;\n",
              "      flex-wrap:wrap;\n",
              "      gap: 12px;\n",
              "    }\n",
              "\n",
              "    .colab-df-convert {\n",
              "      background-color: #E8F0FE;\n",
              "      border: none;\n",
              "      border-radius: 50%;\n",
              "      cursor: pointer;\n",
              "      display: none;\n",
              "      fill: #1967D2;\n",
              "      height: 32px;\n",
              "      padding: 0 0 0 0;\n",
              "      width: 32px;\n",
              "    }\n",
              "\n",
              "    .colab-df-convert:hover {\n",
              "      background-color: #E2EBFA;\n",
              "      box-shadow: 0px 1px 2px rgba(60, 64, 67, 0.3), 0px 1px 3px 1px rgba(60, 64, 67, 0.15);\n",
              "      fill: #174EA6;\n",
              "    }\n",
              "\n",
              "    [theme=dark] .colab-df-convert {\n",
              "      background-color: #3B4455;\n",
              "      fill: #D2E3FC;\n",
              "    }\n",
              "\n",
              "    [theme=dark] .colab-df-convert:hover {\n",
              "      background-color: #434B5C;\n",
              "      box-shadow: 0px 1px 3px 1px rgba(0, 0, 0, 0.15);\n",
              "      filter: drop-shadow(0px 1px 2px rgba(0, 0, 0, 0.3));\n",
              "      fill: #FFFFFF;\n",
              "    }\n",
              "  </style>\n",
              "\n",
              "      <script>\n",
              "        const buttonEl =\n",
              "          document.querySelector('#df-8b425228-c81a-4159-a400-f301f406a488 button.colab-df-convert');\n",
              "        buttonEl.style.display =\n",
              "          google.colab.kernel.accessAllowed ? 'block' : 'none';\n",
              "\n",
              "        async function convertToInteractive(key) {\n",
              "          const element = document.querySelector('#df-8b425228-c81a-4159-a400-f301f406a488');\n",
              "          const dataTable =\n",
              "            await google.colab.kernel.invokeFunction('convertToInteractive',\n",
              "                                                     [key], {});\n",
              "          if (!dataTable) return;\n",
              "\n",
              "          const docLinkHtml = 'Like what you see? Visit the ' +\n",
              "            '<a target=\"_blank\" href=https://colab.research.google.com/notebooks/data_table.ipynb>data table notebook</a>'\n",
              "            + ' to learn more about interactive tables.';\n",
              "          element.innerHTML = '';\n",
              "          dataTable['output_type'] = 'display_data';\n",
              "          await google.colab.output.renderOutput(dataTable, element);\n",
              "          const docLink = document.createElement('div');\n",
              "          docLink.innerHTML = docLinkHtml;\n",
              "          element.appendChild(docLink);\n",
              "        }\n",
              "      </script>\n",
              "    </div>\n",
              "  </div>\n",
              "  "
            ]
          },
          "metadata": {},
          "execution_count": 91
        }
      ],
      "source": [
        "chrom_bed_downloads = pd.read_csv(\"https://uchicago.box.com/shared/static/du77wf31li38tciv8imivwu57svae03p.csv\")\n",
        "chrom_bed_downloads.index = chrom_bed_downloads[\"chroms\"]\n",
        "\n",
        "chrom_bed_downloads.head(3) "
      ]
    },
    {
      "cell_type": "markdown",
      "metadata": {
        "id": "skTRacN7bTS4"
      },
      "source": [
        "We will define a function to help us download bed variation files for a given gene or list of genes"
      ]
    },
    {
      "cell_type": "code",
      "execution_count": null,
      "metadata": {
        "id": "l5y9bkV9FnHa"
      },
      "outputs": [],
      "source": [
        "def download_chrom_beds(chromosome, genes, downloads_table=chrom_bed_downloads):\n",
        "  '''\n",
        "  Downloads and unzip bed/variation files for a chromosome and list of genes\n",
        "  '''\n",
        "\n",
        "  link = downloads_table.loc[str(chromosome), \"link\"]\n",
        "  print(link)\n",
        "  chr_which = 'chr' + chromosome\n",
        "  for gene in genes:\n",
        "    if os.path.exists('/content/drive/MyDrive/Capstone_Project_2022/data/individual_beds/chr' + chromosome + '/chr' + chromosome + '_' + gene + '.bed'): # if the file is in the folder, no need to download again\n",
        "      continue\n",
        "    !curl -L {link} --output /content/drive/MyDrive/Capstone_Project_2022/data/chr_{chromosome}_bed.tar.gz && cd /content/drive/MyDrive/Capstone_Project_2022/data/ && tar -zxf /content/drive/MyDrive/Capstone_Project_2022/data/chr_{chromosome}_bed.tar.gz ./individual_beds/{chr_which}/{chr_which}_{gene}.bed\n",
        "\n",
        "    # remove the download tar.gz file\n",
        "    !rm /content/drive/MyDrive/Capstone_Project_2022/data/chr_{chromosome}_bed.tar.gz"
      ]
    },
    {
      "cell_type": "markdown",
      "source": [
        "The next step is to download the bed file for each selected gene. To do that we iterate the dataframe and use the previously defined function *download_chrom_beds*"
      ],
      "metadata": {
        "id": "8s9pQWBTMnTc"
      }
    },
    {
      "cell_type": "code",
      "execution_count": null,
      "metadata": {
        "collapsed": true,
        "id": "2hruG6jlvJ4Z",
        "jupyter": {
          "outputs_hidden": true
        }
      },
      "outputs": [],
      "source": [
        "chromosomes = []\n",
        "for index, row in df_full_target_genes.iterrows():\n",
        "    chr = str(row['chr'])\n",
        "    if chr not in chromosomes:\n",
        "        chromosomes.append(chr)\n",
        "    gene = [str(row['gene_name'])]\n",
        "    path = local_path + '/data/individual_beds/' + 'chr' + chr + '/' + 'chr'+chr+'_'+gene[0]+'.bed'\n",
        "    if not os.path.exists(path): # only download the bed files when they are not present in the drive\n",
        "      download_chrom_beds(chromosome = chr, genes = gene)  "
      ]
    },
    {
      "cell_type": "markdown",
      "source": [
        "we read in a text file containing all the individual and their relationship with their population fron Geuvadis dataset. "
      ],
      "metadata": {
        "id": "fwSjUqXgTbn5"
      }
    },
    {
      "cell_type": "code",
      "execution_count": null,
      "metadata": {
        "id": "2RWtGn4MsDL2",
        "colab": {
          "base_uri": "https://localhost:8080/",
          "height": 206
        },
        "outputId": "5d91257c-626a-431a-b1dc-bac6afe72f26"
      },
      "outputs": [
        {
          "output_type": "execute_result",
          "data": {
            "text/plain": [
              "    FID      IID      dad      mom  sex  pheno population\n",
              "0  2357  NA19625        0        0    2      0        ASW\n",
              "1  2367  NA19702  NA19700  NA19701    1      0        ASW\n",
              "2  2367  NA19700        0        0    1      0        ASW\n",
              "3  2367  NA19701        0        0    2      0        ASW\n",
              "4  2368  NA19705  NA19703  NA19704    1      0        ASW"
            ],
            "text/html": [
              "\n",
              "  <div id=\"df-93a2a5ad-baca-4c13-91f8-4883ba5e9a0d\">\n",
              "    <div class=\"colab-df-container\">\n",
              "      <div>\n",
              "<style scoped>\n",
              "    .dataframe tbody tr th:only-of-type {\n",
              "        vertical-align: middle;\n",
              "    }\n",
              "\n",
              "    .dataframe tbody tr th {\n",
              "        vertical-align: top;\n",
              "    }\n",
              "\n",
              "    .dataframe thead th {\n",
              "        text-align: right;\n",
              "    }\n",
              "</style>\n",
              "<table border=\"1\" class=\"dataframe\">\n",
              "  <thead>\n",
              "    <tr style=\"text-align: right;\">\n",
              "      <th></th>\n",
              "      <th>FID</th>\n",
              "      <th>IID</th>\n",
              "      <th>dad</th>\n",
              "      <th>mom</th>\n",
              "      <th>sex</th>\n",
              "      <th>pheno</th>\n",
              "      <th>population</th>\n",
              "    </tr>\n",
              "  </thead>\n",
              "  <tbody>\n",
              "    <tr>\n",
              "      <th>0</th>\n",
              "      <td>2357</td>\n",
              "      <td>NA19625</td>\n",
              "      <td>0</td>\n",
              "      <td>0</td>\n",
              "      <td>2</td>\n",
              "      <td>0</td>\n",
              "      <td>ASW</td>\n",
              "    </tr>\n",
              "    <tr>\n",
              "      <th>1</th>\n",
              "      <td>2367</td>\n",
              "      <td>NA19702</td>\n",
              "      <td>NA19700</td>\n",
              "      <td>NA19701</td>\n",
              "      <td>1</td>\n",
              "      <td>0</td>\n",
              "      <td>ASW</td>\n",
              "    </tr>\n",
              "    <tr>\n",
              "      <th>2</th>\n",
              "      <td>2367</td>\n",
              "      <td>NA19700</td>\n",
              "      <td>0</td>\n",
              "      <td>0</td>\n",
              "      <td>1</td>\n",
              "      <td>0</td>\n",
              "      <td>ASW</td>\n",
              "    </tr>\n",
              "    <tr>\n",
              "      <th>3</th>\n",
              "      <td>2367</td>\n",
              "      <td>NA19701</td>\n",
              "      <td>0</td>\n",
              "      <td>0</td>\n",
              "      <td>2</td>\n",
              "      <td>0</td>\n",
              "      <td>ASW</td>\n",
              "    </tr>\n",
              "    <tr>\n",
              "      <th>4</th>\n",
              "      <td>2368</td>\n",
              "      <td>NA19705</td>\n",
              "      <td>NA19703</td>\n",
              "      <td>NA19704</td>\n",
              "      <td>1</td>\n",
              "      <td>0</td>\n",
              "      <td>ASW</td>\n",
              "    </tr>\n",
              "  </tbody>\n",
              "</table>\n",
              "</div>\n",
              "      <button class=\"colab-df-convert\" onclick=\"convertToInteractive('df-93a2a5ad-baca-4c13-91f8-4883ba5e9a0d')\"\n",
              "              title=\"Convert this dataframe to an interactive table.\"\n",
              "              style=\"display:none;\">\n",
              "        \n",
              "  <svg xmlns=\"http://www.w3.org/2000/svg\" height=\"24px\"viewBox=\"0 0 24 24\"\n",
              "       width=\"24px\">\n",
              "    <path d=\"M0 0h24v24H0V0z\" fill=\"none\"/>\n",
              "    <path d=\"M18.56 5.44l.94 2.06.94-2.06 2.06-.94-2.06-.94-.94-2.06-.94 2.06-2.06.94zm-11 1L8.5 8.5l.94-2.06 2.06-.94-2.06-.94L8.5 2.5l-.94 2.06-2.06.94zm10 10l.94 2.06.94-2.06 2.06-.94-2.06-.94-.94-2.06-.94 2.06-2.06.94z\"/><path d=\"M17.41 7.96l-1.37-1.37c-.4-.4-.92-.59-1.43-.59-.52 0-1.04.2-1.43.59L10.3 9.45l-7.72 7.72c-.78.78-.78 2.05 0 2.83L4 21.41c.39.39.9.59 1.41.59.51 0 1.02-.2 1.41-.59l7.78-7.78 2.81-2.81c.8-.78.8-2.07 0-2.86zM5.41 20L4 18.59l7.72-7.72 1.47 1.35L5.41 20z\"/>\n",
              "  </svg>\n",
              "      </button>\n",
              "      \n",
              "  <style>\n",
              "    .colab-df-container {\n",
              "      display:flex;\n",
              "      flex-wrap:wrap;\n",
              "      gap: 12px;\n",
              "    }\n",
              "\n",
              "    .colab-df-convert {\n",
              "      background-color: #E8F0FE;\n",
              "      border: none;\n",
              "      border-radius: 50%;\n",
              "      cursor: pointer;\n",
              "      display: none;\n",
              "      fill: #1967D2;\n",
              "      height: 32px;\n",
              "      padding: 0 0 0 0;\n",
              "      width: 32px;\n",
              "    }\n",
              "\n",
              "    .colab-df-convert:hover {\n",
              "      background-color: #E2EBFA;\n",
              "      box-shadow: 0px 1px 2px rgba(60, 64, 67, 0.3), 0px 1px 3px 1px rgba(60, 64, 67, 0.15);\n",
              "      fill: #174EA6;\n",
              "    }\n",
              "\n",
              "    [theme=dark] .colab-df-convert {\n",
              "      background-color: #3B4455;\n",
              "      fill: #D2E3FC;\n",
              "    }\n",
              "\n",
              "    [theme=dark] .colab-df-convert:hover {\n",
              "      background-color: #434B5C;\n",
              "      box-shadow: 0px 1px 3px 1px rgba(0, 0, 0, 0.15);\n",
              "      filter: drop-shadow(0px 1px 2px rgba(0, 0, 0, 0.3));\n",
              "      fill: #FFFFFF;\n",
              "    }\n",
              "  </style>\n",
              "\n",
              "      <script>\n",
              "        const buttonEl =\n",
              "          document.querySelector('#df-93a2a5ad-baca-4c13-91f8-4883ba5e9a0d button.colab-df-convert');\n",
              "        buttonEl.style.display =\n",
              "          google.colab.kernel.accessAllowed ? 'block' : 'none';\n",
              "\n",
              "        async function convertToInteractive(key) {\n",
              "          const element = document.querySelector('#df-93a2a5ad-baca-4c13-91f8-4883ba5e9a0d');\n",
              "          const dataTable =\n",
              "            await google.colab.kernel.invokeFunction('convertToInteractive',\n",
              "                                                     [key], {});\n",
              "          if (!dataTable) return;\n",
              "\n",
              "          const docLinkHtml = 'Like what you see? Visit the ' +\n",
              "            '<a target=\"_blank\" href=https://colab.research.google.com/notebooks/data_table.ipynb>data table notebook</a>'\n",
              "            + ' to learn more about interactive tables.';\n",
              "          element.innerHTML = '';\n",
              "          dataTable['output_type'] = 'display_data';\n",
              "          await google.colab.output.renderOutput(dataTable, element);\n",
              "          const docLink = document.createElement('div');\n",
              "          docLink.innerHTML = docLinkHtml;\n",
              "          element.appendChild(docLink);\n",
              "        }\n",
              "      </script>\n",
              "    </div>\n",
              "  </div>\n",
              "  "
            ]
          },
          "metadata": {},
          "execution_count": 96
        }
      ],
      "source": [
        "geuvadis_relation = '/content/drive/MyDrive/Capstone_Project_2022/relationships_w_pops.txt'\n",
        "geu_population = pd.read_csv(geuvadis_relation, sep='\\t')\n",
        "geu_population.head()"
      ]
    },
    {
      "cell_type": "markdown",
      "metadata": {
        "id": "oDXvphS9uGo3"
      },
      "source": [
        "Create two sub-dataframe containing only CEU and YRI. These are the race we are interested in."
      ]
    },
    {
      "cell_type": "code",
      "execution_count": null,
      "metadata": {
        "id": "dlDaUFPJtJOt"
      },
      "outputs": [],
      "source": [
        "CEU = geu_population.loc[geu_population.population=='CEU']\n",
        "YRI = geu_population.loc[geu_population.population=='YRI']"
      ]
    },
    {
      "cell_type": "markdown",
      "metadata": {
        "id": "bVjiZNWlsRY8"
      },
      "source": [
        "## Check individual missingness and drop missing individuals form dataset"
      ]
    },
    {
      "cell_type": "markdown",
      "source": [
        "Now we are finally ready to select 120 individuals, however, before that we must check whether we have the individual in our bed file. This step is crucial otherwise we might select an individual that its haplotype information is missing on some genes which would cause us trouble!"
      ],
      "metadata": {
        "id": "9eMW6AW1T8tJ"
      }
    },
    {
      "cell_type": "code",
      "execution_count": null,
      "metadata": {
        "id": "xU9HY3OJmrar"
      },
      "outputs": [],
      "source": [
        "CEU_list = CEU['IID'].values.tolist()\n",
        "YRI_list = YRI['IID'].values.tolist()"
      ]
    },
    {
      "cell_type": "code",
      "source": [
        "# You may take a look at the bed file, which might help you to understand our logic\n",
        "#path = \"/content/drive/MyDrive/Capstone_Project_2022/data/individual_beds/chr1/chr1_CHI3L2.bed\"\n",
        "#!head $path"
      ],
      "metadata": {
        "colab": {
          "base_uri": "https://localhost:8080/"
        },
        "id": "zQPCv4SIUoo1",
        "outputId": "42d86a52-59de-43b1-fe87-0a5c4bbb6ffd"
      },
      "execution_count": null,
      "outputs": [
        {
          "output_type": "stream",
          "name": "stdout",
          "text": [
            "#CHROM\tPOS\tREF\tALT\tHG00096\tHG00097\tHG00099\tHG00100\tHG00101\tHG00102\tHG00103\tHG00104\tHG00105\tHG00106\tHG00108\tHG00109\tHG00110\tHG00111\tHG00112\tHG00114\tHG00115\tHG00116\tHG00117\tHG00118\tHG00119\tHG00120\tHG00121\tHG00122\tHG00123\tHG00125\tHG00126\tHG00127\tHG00128\tHG00129\tHG00130\tHG00131\tHG00132\tHG00133\tHG00134\tHG00135\tHG00136\tHG00137\tHG00138\tHG00139\tHG00141\tHG00142\tHG00143\tHG00145\tHG00146\tHG00148\tHG00149\tHG00150\tHG00151\tHG00152\tHG00154\tHG00155\tHG00156\tHG00157\tHG00158\tHG00159\tHG00160\tHG00171\tHG00173\tHG00174\tHG00176\tHG00177\tHG00178\tHG00179\tHG00180\tHG00181\tHG00182\tHG00183\tHG00185\tHG00186\tHG00187\tHG00188\tHG00189\tHG00231\tHG00232\tHG00233\tHG00234\tHG00235\tHG00236\tHG00238\tHG00239\tHG00240\tHG00242\tHG00243\tHG00244\tHG00245\tHG00246\tHG00249\tHG00250\tHG00251\tHG00252\tHG00253\tHG00255\tHG00256\tHG00257\tHG00258\tHG00259\tHG00260\tHG00261\tHG00262\tHG00263\tHG00264\tHG00265\tHG00266\tHG00267\tHG00268\tHG00269\tHG00271\tHG00272\tHG00273\tHG00274\tHG00275\tHG00276\tHG00277\tHG00278\tHG00280\tHG00281\tHG00282\tHG00284\tHG00285\tHG00306\tHG00308\tHG00309\tHG00310\tHG00311\tHG00312\tHG00313\tHG00315\tHG00319\tHG00320\tHG00321\tHG00323\tHG00324\tHG00325\tHG00326\tHG00327\tHG00328\tHG00329\tHG00330\tHG00331\tHG00332\tHG00334\tHG00335\tHG00336\tHG00337\tHG00338\tHG00339\tHG00341\tHG00342\tHG00343\tHG00344\tHG00345\tHG00346\tHG00349\tHG00350\tHG00351\tHG00353\tHG00355\tHG00356\tHG00358\tHG00359\tHG00360\tHG00361\tHG00362\tHG00364\tHG00365\tHG00366\tHG00367\tHG00369\tHG00371\tHG00372\tHG00373\tHG00375\tHG00376\tHG00377\tHG00378\tHG00379\tHG00380\tHG00381\tHG00382\tHG00383\tHG00384\tHG01334\tHG01789\tHG01790\tHG01791\tHG02215\tNA06984\tNA06985\tNA06986\tNA06989\tNA06994\tNA07037\tNA07048\tNA07051\tNA07056\tNA07347\tNA07357\tNA10847\tNA10851\tNA11829\tNA11830\tNA11831\tNA11832\tNA11840\tNA11843\tNA11881\tNA11892\tNA11893\tNA11894\tNA11918\tNA11920\tNA11930\tNA11931\tNA11992\tNA11994\tNA11995\tNA12004\tNA12005\tNA12006\tNA12043\tNA12044\tNA12045\tNA12058\tNA12144\tNA12154\tNA12155\tNA12156\tNA12234\tNA12249\tNA12272\tNA12273\tNA12275\tNA12282\tNA12283\tNA12286\tNA12287\tNA12340\tNA12341\tNA12342\tNA12347\tNA12348\tNA12383\tNA12399\tNA12400\tNA12413\tNA12489\tNA12546\tNA12716\tNA12717\tNA12718\tNA12749\tNA12750\tNA12751\tNA12760\tNA12761\tNA12762\tNA12763\tNA12775\tNA12776\tNA12777\tNA12778\tNA12812\tNA12813\tNA12814\tNA12815\tNA12827\tNA12829\tNA12830\tNA12842\tNA12843\tNA12872\tNA12873\tNA12874\tNA12889\tNA12890\tNA18486\tNA18488\tNA18489\tNA18499\tNA18502\tNA18505\tNA18508\tNA18510\tNA18511\tNA18517\tNA18519\tNA18520\tNA18858\tNA18861\tNA18867\tNA18868\tNA18870\tNA18873\tNA18907\tNA18908\tNA18909\tNA18910\tNA18912\tNA18916\tNA18917\tNA18923\tNA18933\tNA18934\tNA19092\tNA19093\tNA19095\tNA19096\tNA19098\tNA19099\tNA19102\tNA19107\tNA19108\tNA19113\tNA19114\tNA19116\tNA19117\tNA19118\tNA19119\tNA19121\tNA19129\tNA19130\tNA19131\tNA19137\tNA19138\tNA19141\tNA19143\tNA19144\tNA19146\tNA19147\tNA19149\tNA19152\tNA19153\tNA19159\tNA19160\tNA19171\tNA19172\tNA19175\tNA19184\tNA19185\tNA19189\tNA19190\tNA19197\tNA19198\tNA19200\tNA19201\tNA19204\tNA19206\tNA19207\tNA19209\tNA19210\tNA19213\tNA19214\tNA19222\tNA19223\tNA19225\tNA19235\tNA19236\tNA19247\tNA19248\tNA19256\tNA19257\tNA20502\tNA20503\tNA20504\tNA20505\tNA20506\tNA20507\tNA20508\tNA20509\tNA20510\tNA20512\tNA20513\tNA20514\tNA20515\tNA20516\tNA20517\tNA20518\tNA20519\tNA20520\tNA20521\tNA20524\tNA20525\tNA20527\tNA20528\tNA20529\tNA20530\tNA20531\tNA20532\tNA20534\tNA20535\tNA20536\tNA20537\tNA20538\tNA20539\tNA20540\tNA20541\tNA20542\tNA20543\tNA20544\tNA20581\tNA20582\tNA20585\tNA20586\tNA20588\tNA20589\tNA20752\tNA20754\tNA20756\tNA20757\tNA20758\tNA20759\tNA20760\tNA20761\tNA20765\tNA20766\tNA20768\tNA20769\tNA20770\tNA20771\tNA20772\tNA20773\tNA20774\tNA20778\tNA20783\tNA20785\tNA20786\tNA20787\tNA20790\tNA20792\tNA20795\tNA20796\tNA20797\tNA20798\tNA20799\tNA20800\tNA20801\tNA20802\tNA20803\tNA20804\tNA20805\tNA20806\tNA20807\tNA20808\tNA20809\tNA20810\tNA20811\tNA20812\tNA20813\tNA20814\tNA20815\tNA20816\tNA20819\tNA20826\tNA20828\n",
            "1\t111570071\tG\tC\t0|0\t0|0\t0|0\t0|0\t0|0\t0|0\t0|0\t0|0\t0|0\t0|0\t0|0\t0|0\t0|0\t0|0\t0|0\t0|0\t0|0\t0|0\t0|0\t0|0\t0|0\t0|0\t0|0\t0|0\t0|0\t0|0\t0|0\t0|0\t0|0\t0|0\t0|0\t0|0\t0|0\t0|0\t0|0\t0|0\t0|0\t0|0\t0|0\t0|0\t0|0\t0|0\t0|0\t0|0\t0|0\t0|0\t0|0\t0|0\t0|0\t0|0\t0|0\t0|0\t0|0\t0|0\t0|0\t0|0\t0|0\t0|0\t0|0\t0|0\t0|0\t0|0\t0|0\t0|0\t0|0\t0|0\t0|0\t0|0\t0|0\t0|0\t0|0\t0|0\t0|0\t0|0\t0|0\t0|0\t0|0\t0|0\t0|0\t0|0\t0|0\t0|0\t0|0\t0|0\t0|0\t0|0\t0|0\t0|0\t0|0\t0|0\t0|0\t0|0\t0|0\t0|0\t0|0\t0|0\t0|0\t0|0\t0|0\t0|0\t0|0\t0|0\t0|0\t0|0\t0|0\t0|0\t0|0\t0|0\t0|0\t0|0\t0|0\t0|0\t0|0\t0|0\t0|0\t0|0\t0|0\t0|0\t0|0\t0|0\t0|0\t0|0\t0|0\t0|0\t0|0\t0|0\t0|0\t0|0\t0|0\t0|0\t0|0\t0|0\t0|0\t0|0\t0|0\t0|0\t0|0\t0|0\t0|0\t0|0\t0|0\t0|0\t0|0\t0|0\t0|0\t0|0\t0|0\t0|0\t0|0\t0|0\t0|0\t0|0\t0|0\t0|0\t0|0\t0|0\t0|0\t0|0\t0|0\t0|0\t0|0\t0|0\t0|0\t0|0\t0|0\t0|0\t0|0\t0|0\t0|0\t0|0\t0|0\t0|0\t0|0\t0|0\t0|0\t0|0\t0|0\t0|0\t0|0\t0|0\t0|0\t0|0\t0|0\t0|0\t0|0\t0|0\t0|0\t0|0\t0|0\t0|0\t0|0\t0|0\t0|0\t0|0\t0|0\t0|0\t0|0\t0|0\t0|0\t0|0\t0|0\t0|0\t0|0\t0|0\t0|0\t0|0\t0|0\t0|0\t0|0\t0|0\t0|0\t0|0\t0|0\t0|0\t0|0\t0|0\t0|0\t0|0\t0|0\t0|0\t0|0\t0|0\t0|0\t0|0\t0|0\t0|0\t0|0\t0|0\t0|0\t0|0\t0|0\t0|0\t0|0\t0|0\t0|0\t0|0\t0|0\t0|0\t0|0\t0|0\t0|0\t0|0\t0|0\t0|0\t0|0\t0|0\t0|0\t0|0\t0|0\t0|0\t0|0\t0|0\t0|0\t0|0\t0|0\t0|0\t0|0\t0|0\t0|0\t0|0\t0|0\t0|0\t0|0\t0|0\t0|0\t0|0\t0|0\t0|0\t0|0\t0|0\t0|0\t0|0\t0|0\t0|0\t0|0\t0|0\t0|0\t0|0\t0|0\t0|0\t0|0\t0|0\t0|0\t0|0\t0|0\t0|0\t0|0\t0|0\t0|0\t0|0\t0|0\t0|0\t0|0\t0|0\t0|0\t0|0\t0|0\t0|0\t0|0\t0|0\t0|0\t0|0\t0|0\t0|0\t0|0\t0|0\t0|0\t0|0\t0|0\t0|0\t0|0\t0|0\t0|0\t0|0\t0|0\t0|0\t0|0\t0|0\t0|0\t0|0\t0|0\t0|0\t0|0\t0|0\t0|0\t0|0\t0|0\t0|0\t0|0\t0|0\t0|0\t0|0\t0|0\t0|0\t0|0\t0|0\t0|0\t0|0\t0|0\t0|0\t0|0\t0|0\t0|0\t0|0\t0|0\t0|0\t0|0\t0|0\t0|0\t0|0\t0|0\t0|0\t0|0\t0|0\t0|0\t0|0\t0|0\t0|0\t0|0\t0|0\t0|0\t0|0\t0|0\t0|0\t0|0\t0|0\t0|0\t0|0\t0|0\t0|0\t0|0\t0|0\t0|0\t0|0\t0|0\t0|0\t0|0\t0|0\t0|0\t0|0\t0|0\t0|0\t0|0\t0|0\t0|0\t0|0\t0|0\t0|0\t0|0\t0|0\t0|0\t0|0\t0|0\t0|0\t0|0\t0|0\t0|0\t0|0\t0|0\t0|0\t0|0\t0|0\t0|0\t0|0\t0|0\t0|0\t0|0\t0|0\t0|0\t0|0\t0|0\t0|0\t0|0\t0|0\t0|0\t0|0\t0|0\t0|0\t0|0\t0|0\t0|0\t0|0\t0|0\t0|0\t0|0\t0|0\t0|0\t0|0\t0|0\t0|0\t0|0\t0|0\t0|0\t0|0\t0|0\t0|0\t0|0\t0|0\t0|0\t0|0\t0|0\t0|0\t0|0\t0|0\t0|0\t0|0\t0|0\t0|0\t0|0\t0|0\t0|0\t0|0\t0|0\t0|0\t0|0\n",
            "1\t111570567\tT\tC\t0|0\t0|1\t1|0\t1|0\t0|1\t0|0\t1|0\t1|1\t1|0\t0|0\t1|1\t1|0\t1|0\t1|1\t1|0\t0|0\t0|0\t1|0\t0|1\t0|1\t0|1\t1|1\t0|1\t1|0\t0|0\t0|0\t0|1\t1|1\t1|0\t1|0\t0|1\t1|1\t1|1\t0|0\t0|0\t1|0\t0|0\t0|1\t0|1\t0|0\t0|1\t0|0\t1|0\t0|0\t1|1\t0|0\t0|1\t0|0\t0|0\t0|1\t0|0\t1|0\t0|1\t1|0\t0|1\t0|1\t0|0\t0|0\t0|0\t1|0\t1|0\t0|1\t0|1\t1|0\t1|0\t0|0\t1|0\t0|0\t0|0\t1|0\t0|1\t0|0\t1|0\t1|0\t0|1\t0|1\t0|1\t0|0\t0|1\t0|0\t0|1\t1|1\t0|0\t1|1\t1|0\t0|0\t1|0\t1|0\t0|0\t1|0\t1|0\t0|0\t1|1\t0|1\t0|1\t0|1\t1|1\t0|0\t1|1\t0|0\t0|0\t0|0\t0|0\t0|0\t1|0\t0|0\t1|0\t0|0\t1|0\t0|1\t0|0\t0|1\t1|0\t1|0\t0|1\t1|0\t0|1\t0|1\t0|0\t0|1\t1|0\t0|1\t1|1\t0|0\t1|1\t1|0\t0|1\t1|1\t0|1\t0|1\t0|0\t1|1\t0|0\t0|0\t1|0\t0|1\t1|0\t0|0\t1|0\t0|0\t1|1\t1|1\t1|0\t0|1\t0|0\t0|0\t0|0\t0|1\t0|0\t0|0\t0|0\t1|1\t0|1\t1|0\t0|1\t0|0\t1|0\t0|0\t1|0\t1|1\t0|0\t0|1\t1|1\t0|0\t0|0\t0|1\t0|0\t1|1\t0|1\t1|0\t1|1\t0|1\t0|0\t0|0\t0|1\t1|1\t1|0\t1|1\t0|1\t1|1\t0|0\t1|0\t0|0\t0|0\t0|0\t0|0\t1|0\t1|0\t0|0\t0|0\t1|0\t1|0\t0|0\t0|1\t0|1\t0|0\t1|0\t1|1\t0|0\t0|0\t0|1\t1|1\t0|0\t0|0\t0|0\t0|1\t0|0\t1|0\t0|1\t0|0\t0|0\t0|0\t0|1\t0|0\t0|1\t0|0\t0|0\t0|1\t1|1\t1|1\t1|0\t1|1\t1|0\t1|1\t0|0\t0|1\t1|1\t1|0\t0|1\t0|0\t1|0\t1|0\t0|0\t0|0\t1|0\t0|1\t0|1\t1|0\t1|0\t1|0\t0|0\t1|0\t1|0\t0|0\t1|1\t0|0\t0|1\t0|1\t1|0\t0|0\t1|0\t1|0\t0|0\t0|0\t0|1\t1|0\t0|0\t0|1\t1|0\t1|0\t1|1\t0|1\t0|0\t1|1\t0|1\t1|1\t0|1\t1|0\t0|1\t0|0\t0|0\t0|0\t0|1\t0|0\t1|0\t1|0\t0|0\t1|0\t0|0\t1|0\t0|0\t0|0\t0|0\t0|0\t0|1\t0|1\t1|0\t0|0\t0|0\t1|0\t0|1\t0|1\t1|0\t0|0\t0|1\t0|1\t1|0\t0|0\t0|0\t0|1\t1|0\t0|0\t0|0\t0|0\t0|1\t0|0\t0|0\t1|0\t0|1\t0|0\t0|0\t1|0\t1|0\t0|0\t0|0\t0|0\t1|1\t0|0\t1|0\t0|0\t0|0\t0|0\t0|1\t0|0\t1|0\t0|0\t1|0\t1|0\t1|0\t0|0\t1|1\t1|0\t1|0\t0|1\t0|0\t1|0\t0|0\t0|0\t0|1\t0|0\t0|0\t0|0\t1|0\t0|0\t0|0\t1|0\t1|0\t0|1\t0|0\t0|1\t0|1\t1|0\t0|0\t0|0\t0|0\t1|1\t0|0\t0|0\t0|0\t0|0\t0|0\t0|1\t1|1\t0|0\t0|0\t0|0\t0|0\t0|0\t1|0\t1|0\t1|1\t0|0\t0|0\t0|0\t1|1\t0|0\t0|0\t1|1\t0|0\t0|1\t0|0\t0|1\t0|0\t1|0\t1|0\t1|1\t0|0\t0|0\t0|1\t0|1\t1|0\t1|1\t1|0\t0|0\t0|1\t1|1\t0|0\t1|1\t0|0\t0|1\t1|1\t1|1\t0|0\t0|1\t0|0\t0|1\t0|1\t0|1\t0|1\t1|0\t0|0\t0|0\t1|0\t1|1\t0|0\t1|1\t0|1\t1|1\t0|0\t0|1\t1|0\t0|0\t0|0\t1|0\t0|0\t0|1\t1|1\t1|1\t1|0\t1|1\t0|1\t0|0\t0|1\t0|1\t0|1\t0|0\t1|0\t1|0\t0|0\t0|1\t0|1\t0|1\t1|1\t1|1\t0|1\t1|0\t0|0\t1|0\t0|0\t0|1\t1|1\t0|0\t0|1\t1|1\t0|1\n",
            "1\t111570714\tC\tT\t0|0\t0|1\t1|0\t1|0\t0|1\t0|0\t1|0\t1|1\t1|0\t0|0\t1|1\t1|0\t1|0\t1|1\t1|0\t0|0\t0|0\t1|0\t0|1\t0|1\t0|1\t1|1\t0|1\t1|0\t0|0\t0|0\t0|1\t1|1\t1|0\t1|0\t0|1\t1|1\t1|1\t0|0\t0|0\t1|0\t0|0\t0|1\t0|1\t0|0\t0|1\t0|0\t1|0\t0|0\t1|1\t0|0\t0|1\t0|0\t0|0\t0|1\t0|0\t1|0\t0|1\t1|0\t0|1\t0|1\t0|0\t0|0\t0|0\t1|0\t1|0\t0|1\t0|1\t1|0\t1|0\t0|0\t1|0\t0|0\t0|0\t1|0\t0|1\t0|0\t1|0\t1|0\t0|1\t0|1\t0|1\t0|0\t0|1\t0|0\t0|1\t1|1\t0|0\t1|1\t1|0\t0|0\t1|0\t1|0\t0|0\t1|0\t1|0\t0|0\t1|1\t0|1\t0|1\t0|1\t1|1\t0|0\t1|1\t0|0\t0|0\t0|0\t0|0\t0|0\t1|0\t0|0\t1|0\t0|0\t1|0\t0|1\t0|0\t0|1\t1|0\t1|0\t0|1\t1|0\t0|1\t0|1\t0|0\t0|1\t1|0\t0|1\t1|1\t0|0\t1|1\t1|0\t0|1\t1|1\t0|1\t0|1\t0|0\t1|1\t0|0\t0|0\t1|0\t0|1\t1|0\t0|0\t1|0\t0|0\t1|1\t1|1\t1|0\t0|1\t0|0\t0|0\t0|0\t0|1\t0|0\t0|0\t0|0\t1|1\t0|1\t1|0\t0|1\t0|0\t1|0\t0|0\t1|0\t1|1\t0|0\t0|1\t1|1\t0|0\t0|0\t0|1\t0|0\t1|1\t0|1\t1|0\t1|1\t0|1\t0|0\t0|0\t0|1\t1|1\t1|0\t1|1\t0|1\t1|1\t0|0\t1|0\t0|0\t0|0\t0|0\t0|0\t1|0\t1|0\t0|0\t0|0\t1|0\t1|0\t0|0\t0|1\t0|1\t0|0\t1|0\t1|1\t0|0\t0|0\t0|1\t1|1\t0|0\t0|0\t0|0\t0|1\t0|0\t1|0\t0|1\t0|0\t0|0\t0|0\t0|1\t0|0\t0|1\t0|0\t0|0\t0|1\t1|1\t1|1\t1|0\t1|1\t1|0\t1|1\t0|0\t0|1\t1|1\t1|0\t0|1\t0|0\t1|0\t1|0\t0|0\t0|0\t1|0\t0|1\t0|1\t1|0\t1|0\t1|0\t0|0\t1|0\t1|0\t0|0\t1|1\t0|0\t0|1\t0|1\t1|0\t0|0\t1|0\t1|0\t0|0\t0|0\t0|1\t1|0\t0|0\t0|1\t1|0\t1|0\t1|1\t0|1\t0|0\t1|1\t0|1\t1|1\t0|1\t1|0\t0|1\t0|0\t0|0\t0|0\t0|1\t0|0\t1|0\t1|0\t0|0\t1|0\t0|0\t1|0\t0|0\t0|0\t0|0\t0|0\t0|1\t0|1\t1|0\t0|0\t0|0\t1|0\t0|1\t0|1\t1|0\t0|0\t0|1\t0|1\t1|0\t0|0\t0|0\t0|1\t1|0\t0|0\t0|0\t0|0\t0|1\t0|0\t0|0\t1|0\t0|1\t0|0\t0|0\t1|0\t1|0\t0|0\t0|0\t0|0\t1|1\t0|0\t1|0\t0|0\t0|0\t0|0\t0|1\t0|0\t1|0\t0|0\t1|0\t1|0\t1|0\t0|0\t1|1\t1|0\t1|0\t0|1\t0|0\t1|0\t0|0\t0|0\t0|1\t0|0\t0|0\t0|0\t1|0\t0|0\t0|0\t1|0\t1|0\t0|1\t0|0\t0|1\t0|1\t1|0\t0|0\t0|0\t0|0\t1|1\t0|0\t0|0\t0|0\t0|0\t0|0\t0|1\t1|1\t0|0\t0|0\t0|0\t0|0\t0|0\t1|0\t1|0\t1|1\t0|0\t0|0\t0|0\t1|1\t0|0\t0|0\t1|1\t0|0\t0|1\t0|0\t0|1\t0|0\t1|0\t1|0\t1|1\t0|0\t0|0\t0|1\t0|1\t1|0\t1|1\t1|0\t0|0\t0|1\t1|1\t0|0\t1|1\t0|0\t0|1\t1|1\t1|1\t0|0\t0|1\t0|0\t0|1\t0|1\t0|1\t0|1\t1|0\t0|0\t0|0\t1|0\t1|1\t0|0\t1|1\t0|1\t1|1\t0|0\t0|1\t1|0\t0|0\t0|0\t1|0\t0|0\t0|1\t1|1\t1|1\t1|0\t1|1\t0|1\t0|0\t0|1\t0|1\t0|1\t0|0\t1|1\t1|0\t0|0\t0|1\t0|1\t0|1\t1|1\t1|1\t0|1\t1|0\t0|0\t1|0\t0|0\t0|1\t1|1\t0|0\t0|1\t1|1\t0|1\n",
            "1\t111570823\tA\tC\t0|0\t0|0\t0|0\t0|0\t1|0\t0|0\t0|0\t0|0\t0|0\t0|0\t0|0\t0|0\t0|0\t0|0\t0|0\t0|0\t0|0\t0|0\t0|0\t0|0\t0|0\t0|0\t0|0\t0|0\t0|0\t0|0\t0|0\t0|0\t0|0\t0|0\t0|0\t0|0\t0|0\t1|0\t0|0\t0|0\t0|0\t0|0\t0|0\t0|1\t0|0\t0|0\t0|0\t0|0\t0|0\t0|0\t0|0\t0|0\t0|0\t0|0\t0|0\t0|0\t0|0\t0|0\t0|0\t0|0\t0|0\t0|0\t0|0\t0|0\t0|0\t1|0\t0|0\t0|0\t0|1\t0|0\t0|1\t0|0\t0|0\t0|0\t0|0\t0|0\t0|0\t0|0\t0|0\t0|0\t0|0\t0|0\t0|0\t0|0\t0|0\t0|0\t0|0\t0|0\t0|0\t0|0\t0|0\t0|0\t0|0\t0|0\t0|0\t0|0\t0|0\t0|0\t0|0\t0|0\t0|0\t0|0\t0|0\t0|0\t0|0\t0|0\t0|0\t0|0\t0|0\t0|1\t0|0\t0|0\t0|0\t0|0\t0|0\t0|0\t0|0\t0|0\t0|0\t0|0\t0|0\t0|0\t0|0\t0|0\t0|0\t0|0\t0|0\t0|0\t0|0\t0|0\t0|0\t0|0\t0|0\t0|0\t0|0\t0|0\t0|0\t0|0\t0|0\t0|0\t0|0\t0|0\t0|0\t0|0\t0|0\t0|0\t0|0\t0|0\t0|0\t0|0\t0|0\t0|0\t0|0\t0|0\t0|0\t0|0\t0|0\t0|0\t0|0\t0|0\t0|0\t0|0\t0|0\t0|0\t0|0\t0|0\t0|0\t0|0\t0|0\t1|0\t0|0\t0|0\t1|0\t0|0\t0|0\t0|0\t0|0\t0|0\t0|0\t0|0\t0|0\t0|0\t0|0\t0|0\t0|0\t0|0\t0|0\t0|0\t0|0\t0|0\t0|0\t0|0\t0|0\t0|0\t0|0\t0|0\t0|0\t0|0\t0|0\t0|0\t0|0\t0|0\t1|0\t0|0\t0|0\t0|0\t0|0\t0|0\t0|0\t0|0\t0|0\t0|0\t0|0\t0|0\t0|0\t0|0\t0|0\t0|1\t0|0\t0|0\t0|0\t0|0\t0|0\t0|0\t0|0\t0|0\t0|0\t0|0\t0|0\t0|0\t0|0\t0|0\t0|0\t0|1\t0|0\t0|0\t0|0\t0|0\t0|0\t0|0\t0|0\t0|0\t0|0\t0|0\t0|0\t0|0\t0|0\t0|0\t0|0\t0|0\t0|0\t0|0\t0|0\t0|0\t0|1\t0|0\t0|0\t0|0\t1|0\t0|0\t0|0\t0|0\t0|0\t0|0\t0|0\t0|0\t0|0\t0|0\t0|0\t0|0\t0|0\t0|0\t0|0\t0|0\t0|0\t0|0\t0|0\t0|0\t0|0\t0|0\t0|0\t0|1\t0|0\t0|0\t1|0\t0|1\t0|1\t0|0\t0|0\t0|0\t0|0\t0|0\t0|0\t0|0\t1|0\t0|0\t0|1\t1|0\t0|0\t0|0\t0|0\t0|0\t0|0\t0|0\t0|0\t0|0\t0|0\t1|0\t0|0\t0|0\t0|1\t0|0\t0|0\t0|0\t0|1\t0|0\t0|0\t0|0\t0|0\t1|1\t0|0\t0|1\t0|0\t0|0\t1|0\t1|0\t0|0\t0|0\t0|1\t0|0\t0|0\t0|0\t0|0\t1|0\t0|0\t0|0\t0|0\t1|0\t0|0\t0|0\t0|0\t0|1\t0|0\t0|0\t1|1\t0|0\t0|0\t0|1\t0|0\t0|0\t0|0\t0|0\t0|0\t0|0\t0|0\t0|0\t0|0\t1|0\t0|0\t0|0\t0|0\t0|0\t0|0\t0|0\t0|1\t0|0\t0|0\t0|0\t0|0\t0|0\t0|0\t0|0\t0|0\t0|0\t0|0\t0|0\t0|0\t0|0\t0|0\t0|0\t0|0\t0|0\t0|0\t0|0\t0|0\t0|0\t0|0\t0|0\t0|0\t0|0\t0|0\t0|0\t0|0\t0|0\t0|0\t0|0\t0|0\t0|0\t0|0\t0|0\t0|0\t0|0\t0|0\t0|0\t0|0\t0|0\t0|0\t0|0\t0|0\t0|0\t0|0\t0|0\t0|0\t0|0\t0|0\t0|0\t0|0\t0|0\t0|0\t0|0\t0|0\t0|0\t0|0\t0|0\t0|0\t0|0\t0|0\t0|0\t0|1\t0|0\t0|0\t0|0\t0|0\t0|0\t0|0\t0|0\t0|0\t0|0\t0|0\t0|0\t0|0\t0|0\t0|0\t0|0\t0|0\t0|0\t0|0\t0|0\t0|0\t0|0\t1|0\t0|0\t0|0\t0|0\t0|0\t0|0\t0|0\t0|0\t0|0\n",
            "1\t111571080\tT\tC\t0|0\t1|1\t1|0\t1|1\t1|1\t0|1\t1|1\t1|1\t1|0\t0|0\t1|1\t1|1\t1|0\t1|1\t1|1\t0|1\t1|1\t1|0\t0|1\t0|1\t0|1\t1|1\t1|1\t1|0\t0|0\t1|1\t0|1\t1|1\t1|1\t1|1\t1|1\t1|1\t1|1\t1|0\t1|1\t1|0\t1|0\t1|1\t0|1\t0|1\t0|1\t1|0\t1|0\t0|1\t1|1\t0|1\t1|1\t0|0\t0|1\t1|1\t0|0\t1|1\t1|1\t1|0\t0|1\t1|1\t0|0\t1|1\t1|0\t1|0\t1|1\t1|1\t0|1\t1|0\t1|1\t1|0\t1|1\t1|0\t1|0\t1|0\t0|1\t0|0\t1|1\t1|1\t0|0\t1|1\t1|1\t1|0\t0|1\t0|0\t1|1\t1|1\t1|0\t1|1\t1|1\t0|1\t1|1\t1|1\t0|1\t1|1\t1|0\t0|0\t1|1\t1|1\t1|1\t1|1\t1|1\t1|1\t1|1\t1|1\t0|0\t0|1\t1|0\t1|1\t1|1\t0|1\t1|0\t1|1\t1|0\t1|1\t1|0\t0|1\t1|1\t1|1\t0|1\t1|0\t1|1\t0|1\t0|1\t0|1\t1|0\t0|1\t1|1\t0|1\t1|1\t1|1\t0|1\t1|1\t1|1\t1|1\t1|1\t1|1\t1|0\t0|0\t1|1\t1|1\t1|1\t0|0\t1|1\t0|1\t1|1\t1|1\t1|1\t1|1\t1|0\t0|0\t1|1\t1|1\t1|0\t0|1\t1|1\t1|1\t1|1\t1|0\t0|1\t1|1\t1|0\t0|0\t1|1\t1|1\t0|0\t0|1\t1|1\t0|1\t1|1\t1|1\t1|0\t1|1\t1|1\t1|1\t1|1\t1|1\t0|0\t1|0\t1|1\t1|1\t1|0\t1|1\t1|1\t1|1\t0|0\t1|0\t1|1\t1|1\t1|1\t1|0\t1|1\t1|1\t0|0\t0|1\t1|0\t1|0\t1|1\t1|1\t1|1\t1|0\t1|1\t1|1\t1|1\t0|1\t0|1\t1|1\t0|0\t1|0\t1|1\t1|1\t0|1\t1|1\t1|1\t0|1\t1|0\t1|1\t0|1\t1|1\t1|1\t1|1\t0|1\t0|1\t1|1\t1|1\t1|1\t1|1\t1|0\t1|1\t0|0\t0|1\t1|1\t1|1\t1|1\t0|1\t1|1\t1|1\t0|0\t0|0\t1|0\t0|1\t0|1\t1|1\t1|0\t1|1\t0|1\t1|1\t1|0\t1|0\t1|1\t0|0\t0|1\t0|1\t1|0\t0|1\t1|1\t1|0\t0|0\t1|1\t1|1\t1|0\t1|0\t1|1\t1|1\t1|0\t1|1\t0|1\t1|1\t1|1\t0|1\t1|1\t0|1\t1|0\t1|1\t1|0\t0|1\t0|0\t0|1\t0|1\t1|1\t1|1\t1|0\t1|1\t1|1\t1|0\t1|1\t1|1\t1|1\t1|1\t0|1\t1|1\t1|1\t1|1\t1|1\t1|1\t1|1\t1|1\t1|1\t1|1\t1|1\t1|1\t1|1\t1|1\t1|1\t1|1\t1|1\t1|1\t1|1\t1|1\t1|1\t1|0\t1|1\t1|1\t0|1\t1|1\t1|1\t1|1\t1|1\t1|1\t1|1\t1|1\t1|1\t1|1\t1|1\t0|1\t1|1\t1|0\t1|1\t1|1\t1|1\t1|1\t1|1\t1|1\t1|1\t1|1\t1|1\t1|1\t1|1\t1|1\t1|1\t1|1\t1|1\t1|1\t1|1\t1|1\t1|1\t1|1\t1|1\t1|1\t1|1\t1|1\t1|1\t1|1\t0|1\t1|1\t0|1\t1|1\t1|1\t1|1\t1|1\t1|1\t1|1\t1|1\t1|1\t1|1\t1|1\t1|1\t1|1\t1|0\t0|0\t1|1\t0|0\t1|1\t1|1\t1|1\t1|1\t1|1\t1|1\t1|0\t1|1\t1|1\t1|0\t1|1\t1|1\t0|1\t1|1\t0|1\t0|0\t1|1\t1|1\t1|1\t0|0\t1|1\t0|1\t0|1\t1|1\t1|1\t1|0\t0|0\t0|1\t1|1\t1|0\t1|1\t0|1\t0|1\t1|1\t1|1\t1|1\t0|1\t1|1\t1|1\t1|1\t1|1\t0|1\t1|1\t1|0\t0|1\t1|1\t1|1\t0|0\t1|1\t1|1\t1|1\t1|1\t0|1\t1|1\t1|0\t1|0\t1|0\t1|1\t1|1\t1|1\t1|1\t1|1\t1|1\t0|1\t1|1\t1|1\t1|1\t0|1\t1|1\t1|1\t1|0\t1|0\t1|1\t1|1\t1|1\t1|1\t1|1\t1|1\t1|0\t1|1\t1|0\t0|0\t0|1\t1|1\t1|0\t1|1\t1|1\t0|1\n",
            "1\t111572204\tA\tG\t0|0\t1|0\t0|0\t0|1\t0|0\t0|1\t0|1\t0|0\t0|0\t0|0\t0|0\t0|1\t0|0\t0|0\t1|1\t0|1\t1|1\t0|0\t0|0\t0|0\t0|0\t0|0\t1|0\t0|0\t0|0\t1|1\t0|0\t0|0\t0|1\t0|1\t1|0\t0|0\t0|0\t0|0\t1|1\t0|0\t1|0\t1|0\t0|0\t0|0\t0|0\t1|0\t0|0\t0|1\t0|0\t0|1\t1|0\t0|0\t0|1\t1|0\t0|0\t0|1\t1|0\t0|0\t0|0\t1|0\t0|0\t1|1\t1|0\t0|0\t0|1\t0|0\t0|0\t0|0\t0|0\t1|0\t0|0\t1|0\t1|0\t0|0\t0|0\t0|0\t0|1\t0|1\t0|0\t1|0\t1|0\t1|0\t0|0\t0|0\t1|0\t0|0\t1|0\t0|0\t0|1\t0|1\t1|1\t0|1\t0|1\t0|1\t0|0\t0|0\t0|0\t1|0\t1|0\t1|0\t0|0\t1|1\t0|0\t1|1\t0|0\t0|1\t1|0\t1|1\t0|1\t0|0\t0|0\t1|1\t0|0\t1|0\t1|0\t0|0\t0|1\t0|1\t0|0\t0|0\t1|0\t0|0\t0|1\t0|0\t0|0\t0|0\t0|0\t0|1\t0|0\t0|1\t0|0\t0|0\t1|0\t1|0\t1|1\t0|0\t1|0\t0|0\t0|1\t1|0\t0|1\t0|0\t0|1\t0|1\t0|0\t0|0\t0|1\t1|0\t1|0\t0|0\t1|1\t1|0\t1|0\t0|1\t1|1\t0|0\t1|0\t0|0\t0|0\t1|1\t0|0\t0|0\t0|1\t0|0\t0|0\t0|0\t0|0\t0|1\t1|1\t0|0\t1|0\t0|0\t0|0\t0|1\t0|0\t1|0\t0|0\t1|0\t0|0\t0|0\t0|0\t0|0\t1|0\t0|0\t0|0\t0|0\t1|1\t1|1\t1|1\t1|0\t0|1\t0|1\t0|0\t0|1\t0|0\t0|0\t1|1\t1|0\t1|0\t1|0\t0|1\t0|0\t0|1\t0|1\t0|0\t0|0\t0|0\t1|0\t1|1\t1|0\t0|1\t0|1\t1|0\t0|1\t1|0\t1|1\t0|0\t1|0\t1|0\t1|1\t0|1\t0|0\t0|0\t0|0\t0|1\t0|0\t0|0\t0|0\t0|0\t0|0\t0|0\t0|1\t1|0\t0|0\t0|1\t0|1\t0|0\t0|0\t0|0\t0|0\t0|0\t0|1\t0|0\t0|1\t0|1\t0|1\t0|0\t1|0\t0|0\t0|0\t0|0\t0|0\t0|0\t0|1\t0|0\t0|0\t0|0\t1|1\t0|0\t0|0\t1|0\t1|0\t0|1\t0|0\t0|0\t0|0\t1|1\t1|0\t0|0\t0|0\t0|0\t0|0\t1|0\t1|0\t0|1\t0|0\t0|0\t0|1\t0|1\t0|1\t0|0\t0|0\t0|0\t0|0\t0|1\t1|0\t0|0\t1|1\t0|0\t1|0\t0|1\t0|1\t1|1\t0|1\t0|0\t0|0\t0|0\t0|0\t0|0\t0|0\t0|1\t1|1\t1|1\t0|0\t0|1\t0|0\t0|0\t0|1\t0|0\t0|0\t0|0\t0|1\t0|0\t1|1\t0|0\t0|0\t0|0\t0|0\t1|0\t0|0\t0|0\t0|0\t0|0\t0|0\t0|0\t0|0\t1|0\t0|0\t0|0\t0|0\t0|1\t0|1\t0|1\t0|0\t0|0\t0|0\t0|0\t0|0\t0|1\t0|0\t0|1\t0|0\t0|0\t1|1\t0|0\t1|0\t0|0\t0|0\t0|0\t0|0\t0|0\t0|0\t0|0\t1|0\t0|0\t0|1\t0|1\t0|1\t0|0\t0|0\t1|0\t1|0\t0|0\t1|1\t1|0\t0|0\t0|0\t1|0\t0|0\t1|1\t0|0\t1|1\t0|1\t0|1\t0|0\t1|1\t1|1\t1|0\t0|0\t1|1\t1|0\t0|0\t1|1\t0|0\t1|1\t0|0\t0|0\t0|1\t0|1\t0|0\t0|0\t1|1\t0|0\t0|0\t0|1\t0|0\t0|0\t0|0\t0|0\t0|0\t1|0\t0|0\t0|1\t0|0\t0|0\t0|0\t1|1\t0|0\t1|1\t1|0\t1|0\t1|0\t0|0\t0|1\t1|0\t0|1\t0|1\t0|0\t0|0\t0|0\t1|0\t0|0\t1|1\t0|0\t0|1\t1|0\t1|0\t0|0\t1|0\t1|0\t0|0\t0|0\t0|1\t0|0\t0|0\t1|1\t1|0\t1|0\t0|0\t1|1\t0|1\t0|0\t1|0\t1|0\t1|0\t1|0\t0|0\t0|0\t1|0\t0|0\t0|1\t0|0\t0|0\t0|0\t0|0\t1|0\t1|0\t0|0\t0|0\n",
            "1\t111572311\tC\tT\t0|0\t0|0\t0|0\t0|0\t1|0\t0|0\t0|0\t0|0\t0|0\t0|0\t0|0\t0|0\t0|0\t0|0\t0|0\t0|0\t0|0\t0|0\t0|0\t0|0\t0|0\t0|0\t0|0\t0|0\t0|0\t0|0\t0|0\t0|0\t0|0\t0|0\t0|0\t0|0\t0|0\t1|0\t0|0\t0|0\t0|0\t0|0\t0|0\t0|1\t0|0\t0|0\t0|0\t0|0\t0|0\t0|0\t0|0\t0|0\t0|0\t0|0\t0|0\t0|0\t0|0\t0|0\t0|0\t0|0\t0|0\t0|0\t0|0\t0|0\t0|0\t1|0\t0|0\t0|0\t0|1\t0|0\t0|1\t0|0\t0|0\t0|0\t0|0\t0|0\t0|0\t0|0\t0|0\t0|0\t0|0\t0|0\t0|0\t0|0\t0|0\t0|0\t0|0\t0|0\t0|0\t0|0\t0|0\t0|0\t0|0\t0|0\t0|0\t0|0\t0|0\t0|0\t0|0\t0|0\t0|0\t0|0\t0|0\t0|0\t0|0\t0|0\t0|0\t0|0\t0|0\t0|1\t0|0\t0|0\t0|0\t0|0\t0|0\t0|0\t0|0\t0|0\t0|0\t0|0\t0|0\t0|0\t0|0\t0|0\t0|0\t0|0\t0|0\t0|0\t0|0\t0|0\t0|0\t0|0\t0|0\t0|0\t0|0\t0|0\t0|0\t0|0\t0|0\t0|0\t0|0\t0|0\t0|0\t0|0\t0|0\t0|0\t0|0\t0|0\t0|0\t0|0\t0|0\t0|0\t0|0\t0|0\t0|0\t0|0\t0|0\t0|0\t0|0\t0|0\t0|0\t0|0\t0|0\t0|0\t0|0\t0|0\t0|0\t0|0\t0|0\t1|0\t0|0\t0|0\t1|0\t0|0\t0|0\t0|0\t0|0\t0|0\t0|0\t0|0\t0|0\t0|0\t0|0\t0|0\t0|0\t0|0\t0|0\t0|0\t0|0\t0|0\t0|0\t0|0\t0|0\t0|0\t0|0\t0|0\t0|0\t0|0\t0|0\t0|0\t0|0\t0|0\t1|0\t0|0\t0|0\t0|0\t0|0\t0|0\t0|0\t0|0\t0|0\t0|0\t0|0\t0|0\t0|0\t0|0\t0|0\t0|1\t0|0\t0|0\t0|0\t0|0\t0|0\t0|0\t0|0\t0|0\t0|0\t0|0\t0|0\t0|0\t0|0\t0|0\t0|0\t0|1\t0|0\t0|0\t0|0\t0|0\t0|0\t0|0\t0|0\t0|0\t0|0\t0|0\t0|0\t0|0\t0|0\t0|0\t0|0\t0|0\t0|0\t0|0\t0|0\t0|0\t0|1\t0|0\t0|0\t0|0\t1|0\t0|0\t0|0\t0|0\t0|0\t0|0\t0|0\t0|0\t0|0\t0|0\t0|0\t0|0\t0|0\t0|0\t0|0\t0|0\t0|0\t0|0\t0|0\t0|0\t0|0\t0|0\t0|0\t0|1\t0|0\t0|0\t1|0\t0|1\t0|1\t0|0\t0|0\t0|0\t0|0\t0|0\t0|0\t0|0\t1|0\t0|0\t0|1\t1|0\t0|0\t0|0\t0|0\t0|0\t0|0\t0|0\t0|0\t0|0\t0|0\t1|0\t0|0\t0|0\t0|1\t0|0\t0|0\t0|0\t0|1\t0|0\t0|0\t0|0\t0|0\t1|1\t0|0\t0|1\t0|0\t0|0\t1|0\t1|0\t0|0\t0|0\t0|1\t0|0\t0|0\t0|0\t0|0\t1|0\t0|0\t0|0\t0|0\t1|0\t0|0\t0|0\t0|0\t0|1\t0|0\t0|0\t1|1\t0|0\t0|0\t0|1\t0|0\t0|0\t0|0\t0|0\t0|0\t0|0\t0|0\t0|0\t0|0\t1|0\t0|0\t0|0\t0|0\t0|0\t0|0\t0|0\t0|1\t0|0\t0|0\t0|0\t0|0\t0|0\t0|0\t0|0\t0|0\t0|0\t0|0\t0|0\t0|0\t0|0\t0|0\t0|0\t0|0\t0|0\t0|0\t0|0\t0|0\t0|0\t0|0\t0|0\t0|0\t0|0\t0|0\t0|0\t0|0\t0|0\t0|0\t0|0\t1|0\t0|0\t0|0\t0|0\t0|0\t0|0\t0|0\t0|0\t0|0\t0|0\t0|0\t0|0\t0|0\t0|0\t0|0\t0|0\t0|0\t0|0\t0|0\t0|0\t0|0\t0|0\t0|0\t0|0\t0|0\t0|0\t0|0\t0|0\t0|0\t0|0\t0|0\t0|0\t0|1\t0|0\t0|0\t0|0\t0|0\t0|0\t0|0\t0|0\t0|0\t0|0\t0|0\t0|0\t0|0\t0|0\t0|0\t0|0\t0|0\t0|0\t0|0\t0|0\t0|0\t0|0\t1|0\t0|0\t0|0\t0|0\t0|0\t0|0\t0|0\t0|0\t0|0\n",
            "1\t111572737\tC\tT\t0|0\t0|0\t0|0\t0|0\t1|0\t0|0\t0|0\t0|0\t0|0\t0|0\t0|0\t0|0\t0|0\t0|0\t0|0\t0|0\t0|0\t0|0\t0|0\t0|0\t0|0\t0|0\t0|0\t0|0\t0|0\t0|0\t0|0\t0|0\t0|0\t0|0\t0|0\t0|0\t0|0\t1|0\t0|0\t0|0\t0|0\t0|0\t0|0\t0|1\t0|0\t0|0\t0|0\t0|0\t0|0\t0|0\t0|0\t0|0\t0|0\t0|0\t0|0\t0|0\t0|0\t0|0\t0|0\t0|0\t0|0\t0|0\t0|0\t0|0\t0|0\t1|0\t0|0\t0|0\t0|1\t0|0\t0|1\t0|0\t0|0\t0|0\t0|0\t0|0\t0|0\t0|0\t0|0\t0|0\t0|0\t0|0\t0|0\t0|0\t0|0\t0|0\t0|0\t0|0\t0|0\t0|0\t0|0\t0|0\t0|0\t0|0\t0|0\t0|0\t0|0\t0|0\t0|0\t0|0\t0|0\t0|0\t0|0\t0|0\t0|0\t0|0\t0|0\t0|0\t0|0\t0|1\t0|0\t0|0\t0|0\t0|0\t0|0\t0|0\t0|0\t0|0\t0|0\t0|0\t0|0\t0|0\t0|0\t0|0\t0|0\t0|0\t0|0\t0|0\t0|0\t0|0\t0|0\t0|0\t0|0\t0|0\t0|0\t0|0\t0|0\t0|0\t0|0\t0|0\t0|0\t0|0\t0|0\t0|0\t0|0\t0|0\t0|0\t0|0\t0|0\t0|0\t0|0\t0|0\t0|0\t0|0\t0|0\t0|0\t0|0\t0|0\t0|0\t0|0\t0|0\t0|0\t0|0\t0|0\t0|0\t0|0\t0|0\t0|0\t0|0\t1|0\t0|0\t0|0\t1|0\t0|0\t0|0\t0|0\t0|0\t0|0\t0|0\t0|0\t0|0\t0|0\t0|0\t0|0\t0|0\t0|0\t0|0\t0|0\t0|0\t0|0\t0|0\t0|0\t0|0\t0|0\t0|0\t0|0\t0|0\t0|0\t0|0\t0|0\t0|0\t0|0\t1|0\t0|0\t0|0\t0|0\t0|0\t0|0\t0|0\t0|0\t0|0\t0|0\t0|0\t0|0\t0|0\t0|0\t0|0\t0|1\t0|0\t0|0\t0|0\t0|0\t0|0\t0|0\t0|0\t0|0\t0|0\t0|0\t0|0\t0|0\t0|0\t0|0\t0|0\t0|1\t0|0\t0|0\t0|0\t0|0\t0|0\t0|0\t0|0\t0|0\t0|0\t0|0\t0|0\t0|0\t0|0\t0|0\t0|0\t0|0\t0|0\t0|0\t0|0\t0|0\t0|1\t0|0\t0|0\t0|0\t1|0\t0|0\t0|0\t0|0\t0|0\t0|0\t0|0\t0|0\t0|0\t0|0\t0|0\t0|0\t0|0\t0|0\t0|0\t0|0\t0|0\t0|0\t0|0\t0|0\t0|0\t0|0\t0|0\t0|0\t0|0\t0|0\t0|0\t0|0\t0|0\t0|0\t0|0\t0|0\t0|0\t0|0\t0|0\t0|0\t0|0\t0|0\t0|0\t0|0\t0|0\t0|0\t0|0\t0|0\t0|0\t0|0\t0|0\t0|0\t0|0\t0|0\t0|0\t0|0\t0|0\t0|0\t0|0\t0|0\t0|0\t0|0\t0|0\t0|0\t0|0\t0|0\t0|0\t0|0\t0|0\t0|0\t0|0\t0|0\t0|0\t0|0\t0|0\t0|0\t0|0\t0|0\t0|0\t0|0\t0|0\t0|0\t0|0\t0|0\t0|0\t0|0\t0|0\t0|0\t0|0\t0|0\t0|0\t0|0\t0|0\t0|0\t0|0\t0|0\t0|0\t0|0\t0|0\t0|0\t0|0\t0|0\t0|0\t1|0\t0|0\t0|0\t0|0\t0|0\t0|0\t0|0\t0|0\t0|0\t0|0\t0|0\t0|0\t0|0\t0|0\t0|0\t0|0\t0|0\t0|0\t0|0\t0|0\t0|0\t0|0\t0|0\t0|0\t0|0\t0|0\t0|0\t0|0\t0|0\t0|0\t0|0\t0|0\t0|0\t0|0\t0|0\t0|0\t0|0\t0|0\t0|0\t0|0\t0|0\t0|0\t0|0\t0|0\t0|0\t0|0\t0|0\t0|0\t0|0\t0|0\t0|0\t0|0\t0|0\t0|0\t0|0\t0|0\t0|0\t0|0\t0|0\t0|0\t0|0\t0|0\t0|0\t0|0\t0|0\t0|0\t0|0\t0|0\t0|0\t0|0\t0|0\t0|1\t0|0\t0|0\t0|0\t0|0\t0|0\t0|0\t0|0\t0|0\t0|0\t0|0\t0|0\t0|0\t0|0\t0|0\t0|0\t0|0\t0|0\t0|0\t0|0\t0|0\t0|0\t1|0\t0|0\t0|0\t0|0\t0|0\t0|0\t0|0\t0|0\t0|0\n",
            "1\t111572819\tC\tG\t1|1\t1|1\t1|1\t1|1\t1|1\t1|1\t1|1\t1|1\t1|1\t1|1\t1|1\t1|1\t1|1\t1|1\t1|1\t1|1\t1|1\t1|1\t1|1\t1|1\t1|1\t1|1\t1|1\t1|1\t1|1\t1|1\t1|1\t1|1\t1|1\t1|1\t1|1\t1|1\t1|1\t1|1\t1|1\t1|1\t1|1\t1|1\t1|1\t1|1\t1|1\t1|1\t1|1\t1|1\t1|1\t1|1\t1|1\t1|1\t1|1\t1|1\t1|1\t1|1\t1|1\t1|1\t1|1\t1|1\t1|1\t1|1\t1|1\t1|1\t1|1\t1|1\t1|1\t1|1\t1|1\t1|1\t1|1\t1|1\t1|1\t1|1\t1|1\t1|1\t1|1\t1|1\t1|1\t1|1\t1|1\t1|1\t1|1\t1|1\t1|1\t1|1\t1|1\t1|1\t1|1\t1|1\t1|1\t1|1\t1|1\t1|1\t1|1\t1|1\t1|1\t1|1\t1|1\t1|1\t1|1\t1|1\t1|1\t1|1\t1|1\t1|1\t1|1\t1|1\t1|1\t1|1\t1|1\t1|1\t1|1\t1|1\t1|1\t1|1\t1|1\t1|1\t1|1\t1|1\t1|1\t1|1\t1|1\t1|1\t1|1\t1|1\t1|1\t1|1\t1|1\t1|1\t1|1\t1|1\t1|1\t1|1\t1|1\t1|1\t1|1\t1|1\t1|1\t1|1\t1|1\t1|1\t1|1\t1|1\t1|1\t1|1\t1|1\t1|1\t1|1\t1|1\t1|1\t1|1\t1|1\t1|1\t1|1\t1|1\t1|1\t1|1\t1|1\t1|1\t1|1\t1|1\t1|1\t1|1\t1|1\t1|1\t1|1\t1|1\t1|1\t1|1\t1|1\t1|1\t1|1\t1|1\t1|1\t1|1\t1|1\t1|1\t1|1\t1|1\t1|1\t1|1\t1|1\t1|1\t1|1\t1|1\t1|1\t1|1\t1|1\t1|1\t1|1\t1|1\t1|1\t1|1\t1|1\t1|1\t1|1\t1|1\t1|1\t1|1\t1|1\t1|1\t1|1\t1|1\t1|1\t1|1\t1|1\t1|1\t1|1\t1|1\t1|1\t1|1\t1|1\t1|1\t1|1\t1|1\t1|1\t1|1\t1|1\t1|1\t1|1\t1|1\t1|1\t1|1\t1|1\t1|1\t1|1\t1|1\t1|1\t1|1\t1|1\t1|1\t1|1\t1|1\t1|1\t1|1\t1|1\t1|1\t1|1\t1|1\t1|1\t1|1\t1|1\t1|1\t1|1\t1|1\t1|1\t1|1\t1|1\t1|1\t1|1\t1|1\t1|1\t1|1\t1|1\t1|1\t1|1\t1|1\t1|1\t1|1\t1|1\t1|1\t1|1\t1|1\t1|1\t1|1\t1|1\t1|1\t1|1\t1|1\t1|1\t1|1\t1|1\t1|1\t1|1\t1|1\t1|1\t1|1\t1|1\t1|1\t1|1\t1|1\t1|1\t1|1\t1|1\t1|1\t1|1\t1|1\t1|1\t1|1\t1|1\t1|1\t1|1\t1|1\t1|1\t1|1\t1|1\t1|1\t1|1\t1|1\t1|1\t1|1\t1|1\t1|1\t1|1\t1|1\t1|1\t1|1\t1|1\t1|0\t1|1\t1|1\t1|1\t1|1\t1|1\t1|1\t1|1\t1|1\t1|1\t1|1\t1|1\t1|1\t1|1\t1|1\t1|1\t1|1\t1|1\t1|1\t1|1\t1|1\t1|1\t1|1\t1|1\t1|1\t1|1\t1|1\t1|1\t1|1\t1|1\t1|1\t1|1\t1|1\t1|1\t1|1\t1|1\t1|1\t1|1\t1|1\t1|1\t1|1\t1|1\t1|1\t1|1\t1|1\t1|1\t1|1\t1|1\t1|1\t1|1\t1|1\t1|1\t1|1\t1|1\t1|1\t1|1\t1|1\t1|1\t1|1\t1|1\t1|1\t1|1\t1|1\t1|1\t1|1\t1|1\t1|1\t1|1\t1|1\t1|1\t1|1\t1|1\t1|1\t1|1\t1|1\t1|1\t1|1\t1|1\t1|1\t1|1\t1|1\t1|1\t1|1\t1|1\t1|1\t1|1\t1|1\t1|1\t1|1\t1|1\t1|1\t1|1\t1|1\t1|1\t1|1\t1|1\t1|1\t1|1\t1|1\t1|1\t1|1\t1|1\t1|1\t1|1\t1|1\t1|1\t1|1\t1|1\t1|1\t1|1\t1|1\t1|1\t1|1\t1|1\t1|1\t1|1\t1|1\t1|1\t1|1\t1|1\t1|1\t1|1\t1|1\t1|1\t1|1\t1|1\t1|1\t1|1\t1|1\t1|1\t1|1\t1|1\t1|1\t1|1\t1|1\t1|1\t1|1\t1|1\t1|1\t1|1\t1|1\t1|1\t1|1\t1|1\t1|1\t1|1\t1|1\t1|1\t1|1\t1|1\n"
          ]
        }
      ]
    },
    {
      "cell_type": "markdown",
      "source": [
        "So, we define a function to help us check individual missingness"
      ],
      "metadata": {
        "id": "Q8E0NHPJYo8Q"
      }
    },
    {
      "cell_type": "code",
      "source": [
        "def check_individuals(path_to_bed_file, list_of_individuals):\n",
        "\n",
        "  '''\n",
        "  Checks if an individual is missing in bed variation files. \n",
        "  These individuals should be removed prior to training\n",
        "  returns all the missing individual in a list\n",
        "  '''\n",
        "\n",
        "  myfile = open(path_to_bed_file, 'r')\n",
        "  myline = myfile.readline()\n",
        "  bed_names = myline.split('\\t')[4:]\n",
        "  myfile.close()\n",
        "\n",
        "  if set(list_of_individuals).issubset(set(bed_names)) == False:\n",
        "    missing = list(set(list_of_individuals).difference(bed_names))\n",
        "    #print('This (or these) individual(s) is/are not present: {}'.format(missing))\n",
        "  else:\n",
        "    missing = []\n",
        "    #print('All individuals are present in the bed file.')\n",
        "\n",
        "  return(missing)"
      ],
      "metadata": {
        "id": "EgdBQ1E-YoD9"
      },
      "execution_count": null,
      "outputs": []
    },
    {
      "cell_type": "code",
      "execution_count": null,
      "metadata": {
        "colab": {
          "base_uri": "https://localhost:8080/"
        },
        "id": "kLf-5IxCtBYC",
        "outputId": "6d77634d-0363-436c-a6c8-6ad08c5a7156"
      },
      "outputs": [
        {
          "output_type": "execute_result",
          "data": {
            "text/plain": [
              "91"
            ]
          },
          "metadata": {},
          "execution_count": 101
        }
      ],
      "source": [
        "path = \"/content/drive/MyDrive/Capstone_Project_2022/data/individual_beds/chr\"\n",
        "chromBed = []\n",
        "for index, row in df_full_target_genes.iterrows():\n",
        "    name = str(row['chr'])+'/chr'+str(row['chr'])+'_'+row['gene_name']\n",
        "    chromBed.append(name)\n",
        "\n",
        "CEU_Missing = set()\n",
        "for item in chromBed:\n",
        "  missing = check_individuals( path+chromBed[1]+'.bed', list_of_individuals=CEU_list)\n",
        "  missing = set(missing)\n",
        "  CEU_Missing.update(missing)\n",
        "\n",
        "len(CEU_Missing) # this indicates how many individual are missing in all bed files "
      ]
    },
    {
      "cell_type": "code",
      "execution_count": null,
      "metadata": {
        "colab": {
          "base_uri": "https://localhost:8080/"
        },
        "id": "bV0sPDYcyXLb",
        "outputId": "5a5de02b-f4f7-4546-fc38-26813f65cddf"
      },
      "outputs": [
        {
          "output_type": "execute_result",
          "data": {
            "text/plain": [
              "94"
            ]
          },
          "metadata": {},
          "execution_count": 102
        }
      ],
      "source": [
        "YRI_Missing = set()\n",
        "for item in chromBed:\n",
        "  missing = check_individuals( path+chromBed[1]+'.bed', list_of_individuals=YRI_list)\n",
        "  missing = set(missing)\n",
        "  YRI_Missing.update(missing)\n",
        "len(YRI_Missing)"
      ]
    },
    {
      "cell_type": "markdown",
      "metadata": {
        "id": "whb5bzQGycZJ"
      },
      "source": [
        "We drop the missing individuals and keep only the ones that are present in all bed files."
      ]
    },
    {
      "cell_type": "code",
      "execution_count": null,
      "metadata": {
        "colab": {
          "base_uri": "https://localhost:8080/"
        },
        "id": "GSGeecgoy77U",
        "outputId": "09b94443-2bba-4f0f-f27f-6a6b4e22612b"
      },
      "outputs": [
        {
          "output_type": "execute_result",
          "data": {
            "text/plain": [
              "86"
            ]
          },
          "metadata": {},
          "execution_count": 103
        }
      ],
      "source": [
        "YRI_set = set(YRI_list)\n",
        "YRI_remain = YRI_set.difference(YRI_Missing)\n",
        "len(YRI_remain)"
      ]
    },
    {
      "cell_type": "code",
      "execution_count": null,
      "metadata": {
        "colab": {
          "base_uri": "https://localhost:8080/"
        },
        "id": "33HOlZtg0poh",
        "outputId": "997d9c62-a7fc-4369-c0be-1da00fa0ee15"
      },
      "outputs": [
        {
          "output_type": "execute_result",
          "data": {
            "text/plain": [
              "89"
            ]
          },
          "metadata": {},
          "execution_count": 104
        }
      ],
      "source": [
        "CEU_set = set(CEU_list)\n",
        "CEU_remain = CEU_set.difference(CEU_Missing)\n",
        "len(CEU_remain)"
      ]
    },
    {
      "cell_type": "markdown",
      "metadata": {
        "id": "RcVdB_R01qoc"
      },
      "source": [
        "# Randomly Select Individual:"
      ]
    },
    {
      "cell_type": "markdown",
      "metadata": {
        "id": "co-eu20d1qoe"
      },
      "source": [
        "The goal of this section is to randomly select our 60 individuals among the remaining ones from the CEU and YRI population"
      ]
    },
    {
      "cell_type": "markdown",
      "source": [
        "First, we sort the remaining individual to give it an order, which makes our randomly select process more reliable."
      ],
      "metadata": {
        "id": "1E9nJ1HrcsEX"
      }
    },
    {
      "cell_type": "code",
      "source": [
        "CEU_remain=list(CEU_remain)\n",
        "CEU_remain.sort()\n",
        "df_CEU_remain = pd.DataFrame(CEU_remain)\n",
        "\n",
        "YRI_remain=list(YRI_remain)\n",
        "YRI_remain.sort()\n",
        "df_YRI_remain = pd.DataFrame(YRI_remain)"
      ],
      "metadata": {
        "id": "NX0qh7tLa7gL"
      },
      "execution_count": null,
      "outputs": []
    },
    {
      "cell_type": "markdown",
      "metadata": {
        "id": "lF30RWaUuWd7"
      },
      "source": [
        "Save the selected individual in case the randome state does not work properly. But also just to keep track of the progress."
      ]
    },
    {
      "cell_type": "code",
      "execution_count": null,
      "metadata": {
        "id": "nokzAGzvud-f"
      },
      "outputs": [],
      "source": [
        "path1 = \"/content/drive/MyDrive/Capstone_Project_2022/data/CEU_sample_group.csv\"\n",
        "if not os.path.exists(\"/content/drive/MyDrive/Capstone_Project_2022/data/CEU_sample_group.csv\"):\n",
        "  CEU_sample_group = df_CEU_remain.sample(n=60, random_state=1)\n",
        "  CEU_sample_group.columns = ['individual']\n",
        "  CEU_sample_group.to_csv(path1, index=False)\n",
        "  CEU_sample_group = pd.read_csv(path1)\n",
        "else:\n",
        "  CEU_sample_group = pd.read_csv(path1)"
      ]
    },
    {
      "cell_type": "code",
      "execution_count": null,
      "metadata": {
        "id": "e-FKkTZP35kq",
        "colab": {
          "base_uri": "https://localhost:8080/",
          "height": 206
        },
        "outputId": "e762cc3e-cbf5-48f4-a0fd-b2e028c7a69a"
      },
      "outputs": [
        {
          "output_type": "execute_result",
          "data": {
            "text/plain": [
              "  individual\n",
              "0    NA12546\n",
              "1    NA12763\n",
              "2    NA12347\n",
              "3    NA12348\n",
              "4    NA12814"
            ],
            "text/html": [
              "\n",
              "  <div id=\"df-47d136e7-7689-41c2-ab47-082ba4481a29\">\n",
              "    <div class=\"colab-df-container\">\n",
              "      <div>\n",
              "<style scoped>\n",
              "    .dataframe tbody tr th:only-of-type {\n",
              "        vertical-align: middle;\n",
              "    }\n",
              "\n",
              "    .dataframe tbody tr th {\n",
              "        vertical-align: top;\n",
              "    }\n",
              "\n",
              "    .dataframe thead th {\n",
              "        text-align: right;\n",
              "    }\n",
              "</style>\n",
              "<table border=\"1\" class=\"dataframe\">\n",
              "  <thead>\n",
              "    <tr style=\"text-align: right;\">\n",
              "      <th></th>\n",
              "      <th>individual</th>\n",
              "    </tr>\n",
              "  </thead>\n",
              "  <tbody>\n",
              "    <tr>\n",
              "      <th>0</th>\n",
              "      <td>NA12546</td>\n",
              "    </tr>\n",
              "    <tr>\n",
              "      <th>1</th>\n",
              "      <td>NA12763</td>\n",
              "    </tr>\n",
              "    <tr>\n",
              "      <th>2</th>\n",
              "      <td>NA12347</td>\n",
              "    </tr>\n",
              "    <tr>\n",
              "      <th>3</th>\n",
              "      <td>NA12348</td>\n",
              "    </tr>\n",
              "    <tr>\n",
              "      <th>4</th>\n",
              "      <td>NA12814</td>\n",
              "    </tr>\n",
              "  </tbody>\n",
              "</table>\n",
              "</div>\n",
              "      <button class=\"colab-df-convert\" onclick=\"convertToInteractive('df-47d136e7-7689-41c2-ab47-082ba4481a29')\"\n",
              "              title=\"Convert this dataframe to an interactive table.\"\n",
              "              style=\"display:none;\">\n",
              "        \n",
              "  <svg xmlns=\"http://www.w3.org/2000/svg\" height=\"24px\"viewBox=\"0 0 24 24\"\n",
              "       width=\"24px\">\n",
              "    <path d=\"M0 0h24v24H0V0z\" fill=\"none\"/>\n",
              "    <path d=\"M18.56 5.44l.94 2.06.94-2.06 2.06-.94-2.06-.94-.94-2.06-.94 2.06-2.06.94zm-11 1L8.5 8.5l.94-2.06 2.06-.94-2.06-.94L8.5 2.5l-.94 2.06-2.06.94zm10 10l.94 2.06.94-2.06 2.06-.94-2.06-.94-.94-2.06-.94 2.06-2.06.94z\"/><path d=\"M17.41 7.96l-1.37-1.37c-.4-.4-.92-.59-1.43-.59-.52 0-1.04.2-1.43.59L10.3 9.45l-7.72 7.72c-.78.78-.78 2.05 0 2.83L4 21.41c.39.39.9.59 1.41.59.51 0 1.02-.2 1.41-.59l7.78-7.78 2.81-2.81c.8-.78.8-2.07 0-2.86zM5.41 20L4 18.59l7.72-7.72 1.47 1.35L5.41 20z\"/>\n",
              "  </svg>\n",
              "      </button>\n",
              "      \n",
              "  <style>\n",
              "    .colab-df-container {\n",
              "      display:flex;\n",
              "      flex-wrap:wrap;\n",
              "      gap: 12px;\n",
              "    }\n",
              "\n",
              "    .colab-df-convert {\n",
              "      background-color: #E8F0FE;\n",
              "      border: none;\n",
              "      border-radius: 50%;\n",
              "      cursor: pointer;\n",
              "      display: none;\n",
              "      fill: #1967D2;\n",
              "      height: 32px;\n",
              "      padding: 0 0 0 0;\n",
              "      width: 32px;\n",
              "    }\n",
              "\n",
              "    .colab-df-convert:hover {\n",
              "      background-color: #E2EBFA;\n",
              "      box-shadow: 0px 1px 2px rgba(60, 64, 67, 0.3), 0px 1px 3px 1px rgba(60, 64, 67, 0.15);\n",
              "      fill: #174EA6;\n",
              "    }\n",
              "\n",
              "    [theme=dark] .colab-df-convert {\n",
              "      background-color: #3B4455;\n",
              "      fill: #D2E3FC;\n",
              "    }\n",
              "\n",
              "    [theme=dark] .colab-df-convert:hover {\n",
              "      background-color: #434B5C;\n",
              "      box-shadow: 0px 1px 3px 1px rgba(0, 0, 0, 0.15);\n",
              "      filter: drop-shadow(0px 1px 2px rgba(0, 0, 0, 0.3));\n",
              "      fill: #FFFFFF;\n",
              "    }\n",
              "  </style>\n",
              "\n",
              "      <script>\n",
              "        const buttonEl =\n",
              "          document.querySelector('#df-47d136e7-7689-41c2-ab47-082ba4481a29 button.colab-df-convert');\n",
              "        buttonEl.style.display =\n",
              "          google.colab.kernel.accessAllowed ? 'block' : 'none';\n",
              "\n",
              "        async function convertToInteractive(key) {\n",
              "          const element = document.querySelector('#df-47d136e7-7689-41c2-ab47-082ba4481a29');\n",
              "          const dataTable =\n",
              "            await google.colab.kernel.invokeFunction('convertToInteractive',\n",
              "                                                     [key], {});\n",
              "          if (!dataTable) return;\n",
              "\n",
              "          const docLinkHtml = 'Like what you see? Visit the ' +\n",
              "            '<a target=\"_blank\" href=https://colab.research.google.com/notebooks/data_table.ipynb>data table notebook</a>'\n",
              "            + ' to learn more about interactive tables.';\n",
              "          element.innerHTML = '';\n",
              "          dataTable['output_type'] = 'display_data';\n",
              "          await google.colab.output.renderOutput(dataTable, element);\n",
              "          const docLink = document.createElement('div');\n",
              "          docLink.innerHTML = docLinkHtml;\n",
              "          element.appendChild(docLink);\n",
              "        }\n",
              "      </script>\n",
              "    </div>\n",
              "  </div>\n",
              "  "
            ]
          },
          "metadata": {},
          "execution_count": 107
        }
      ],
      "source": [
        "CEU_sample_group.head(5)"
      ]
    },
    {
      "cell_type": "code",
      "execution_count": null,
      "metadata": {
        "id": "Ud1TebGxve6i"
      },
      "outputs": [],
      "source": [
        "path2 = \"/content/drive/MyDrive/Capstone_Project_2022/data/YRI_sample_group.csv\"\n",
        "if not os.path.exists(\"/content/drive/MyDrive/Capstone_Project_2022/data/YRI_sample_group.csv\"):\n",
        "  YRI_sample_group = df_YRI_remain.sample(n=60, random_state=1)\n",
        "  YRI_sample_group.columns = ['individual']\n",
        "  YRI_sample_group.to_csv(path2, index = False)\n",
        "  YRI_sample_group = pd.read_csv(path2)\n",
        "else:\n",
        "  YRI_sample_group = pd.read_csv(path2)"
      ]
    },
    {
      "cell_type": "code",
      "execution_count": null,
      "metadata": {
        "id": "eMwa4bCb377i",
        "colab": {
          "base_uri": "https://localhost:8080/",
          "height": 206
        },
        "outputId": "594ed300-f00b-42a2-95fd-4b1989173465"
      },
      "outputs": [
        {
          "output_type": "execute_result",
          "data": {
            "text/plain": [
              "  individual\n",
              "0    NA19114\n",
              "1    NA19129\n",
              "2    NA18934\n",
              "3    NA19117\n",
              "4    NA19108"
            ],
            "text/html": [
              "\n",
              "  <div id=\"df-ca4ded69-a5a1-4fea-891b-bfd6b821d4cf\">\n",
              "    <div class=\"colab-df-container\">\n",
              "      <div>\n",
              "<style scoped>\n",
              "    .dataframe tbody tr th:only-of-type {\n",
              "        vertical-align: middle;\n",
              "    }\n",
              "\n",
              "    .dataframe tbody tr th {\n",
              "        vertical-align: top;\n",
              "    }\n",
              "\n",
              "    .dataframe thead th {\n",
              "        text-align: right;\n",
              "    }\n",
              "</style>\n",
              "<table border=\"1\" class=\"dataframe\">\n",
              "  <thead>\n",
              "    <tr style=\"text-align: right;\">\n",
              "      <th></th>\n",
              "      <th>individual</th>\n",
              "    </tr>\n",
              "  </thead>\n",
              "  <tbody>\n",
              "    <tr>\n",
              "      <th>0</th>\n",
              "      <td>NA19114</td>\n",
              "    </tr>\n",
              "    <tr>\n",
              "      <th>1</th>\n",
              "      <td>NA19129</td>\n",
              "    </tr>\n",
              "    <tr>\n",
              "      <th>2</th>\n",
              "      <td>NA18934</td>\n",
              "    </tr>\n",
              "    <tr>\n",
              "      <th>3</th>\n",
              "      <td>NA19117</td>\n",
              "    </tr>\n",
              "    <tr>\n",
              "      <th>4</th>\n",
              "      <td>NA19108</td>\n",
              "    </tr>\n",
              "  </tbody>\n",
              "</table>\n",
              "</div>\n",
              "      <button class=\"colab-df-convert\" onclick=\"convertToInteractive('df-ca4ded69-a5a1-4fea-891b-bfd6b821d4cf')\"\n",
              "              title=\"Convert this dataframe to an interactive table.\"\n",
              "              style=\"display:none;\">\n",
              "        \n",
              "  <svg xmlns=\"http://www.w3.org/2000/svg\" height=\"24px\"viewBox=\"0 0 24 24\"\n",
              "       width=\"24px\">\n",
              "    <path d=\"M0 0h24v24H0V0z\" fill=\"none\"/>\n",
              "    <path d=\"M18.56 5.44l.94 2.06.94-2.06 2.06-.94-2.06-.94-.94-2.06-.94 2.06-2.06.94zm-11 1L8.5 8.5l.94-2.06 2.06-.94-2.06-.94L8.5 2.5l-.94 2.06-2.06.94zm10 10l.94 2.06.94-2.06 2.06-.94-2.06-.94-.94-2.06-.94 2.06-2.06.94z\"/><path d=\"M17.41 7.96l-1.37-1.37c-.4-.4-.92-.59-1.43-.59-.52 0-1.04.2-1.43.59L10.3 9.45l-7.72 7.72c-.78.78-.78 2.05 0 2.83L4 21.41c.39.39.9.59 1.41.59.51 0 1.02-.2 1.41-.59l7.78-7.78 2.81-2.81c.8-.78.8-2.07 0-2.86zM5.41 20L4 18.59l7.72-7.72 1.47 1.35L5.41 20z\"/>\n",
              "  </svg>\n",
              "      </button>\n",
              "      \n",
              "  <style>\n",
              "    .colab-df-container {\n",
              "      display:flex;\n",
              "      flex-wrap:wrap;\n",
              "      gap: 12px;\n",
              "    }\n",
              "\n",
              "    .colab-df-convert {\n",
              "      background-color: #E8F0FE;\n",
              "      border: none;\n",
              "      border-radius: 50%;\n",
              "      cursor: pointer;\n",
              "      display: none;\n",
              "      fill: #1967D2;\n",
              "      height: 32px;\n",
              "      padding: 0 0 0 0;\n",
              "      width: 32px;\n",
              "    }\n",
              "\n",
              "    .colab-df-convert:hover {\n",
              "      background-color: #E2EBFA;\n",
              "      box-shadow: 0px 1px 2px rgba(60, 64, 67, 0.3), 0px 1px 3px 1px rgba(60, 64, 67, 0.15);\n",
              "      fill: #174EA6;\n",
              "    }\n",
              "\n",
              "    [theme=dark] .colab-df-convert {\n",
              "      background-color: #3B4455;\n",
              "      fill: #D2E3FC;\n",
              "    }\n",
              "\n",
              "    [theme=dark] .colab-df-convert:hover {\n",
              "      background-color: #434B5C;\n",
              "      box-shadow: 0px 1px 3px 1px rgba(0, 0, 0, 0.15);\n",
              "      filter: drop-shadow(0px 1px 2px rgba(0, 0, 0, 0.3));\n",
              "      fill: #FFFFFF;\n",
              "    }\n",
              "  </style>\n",
              "\n",
              "      <script>\n",
              "        const buttonEl =\n",
              "          document.querySelector('#df-ca4ded69-a5a1-4fea-891b-bfd6b821d4cf button.colab-df-convert');\n",
              "        buttonEl.style.display =\n",
              "          google.colab.kernel.accessAllowed ? 'block' : 'none';\n",
              "\n",
              "        async function convertToInteractive(key) {\n",
              "          const element = document.querySelector('#df-ca4ded69-a5a1-4fea-891b-bfd6b821d4cf');\n",
              "          const dataTable =\n",
              "            await google.colab.kernel.invokeFunction('convertToInteractive',\n",
              "                                                     [key], {});\n",
              "          if (!dataTable) return;\n",
              "\n",
              "          const docLinkHtml = 'Like what you see? Visit the ' +\n",
              "            '<a target=\"_blank\" href=https://colab.research.google.com/notebooks/data_table.ipynb>data table notebook</a>'\n",
              "            + ' to learn more about interactive tables.';\n",
              "          element.innerHTML = '';\n",
              "          dataTable['output_type'] = 'display_data';\n",
              "          await google.colab.output.renderOutput(dataTable, element);\n",
              "          const docLink = document.createElement('div');\n",
              "          docLink.innerHTML = docLinkHtml;\n",
              "          element.appendChild(docLink);\n",
              "        }\n",
              "      </script>\n",
              "    </div>\n",
              "  </div>\n",
              "  "
            ]
          },
          "metadata": {},
          "execution_count": 109
        }
      ],
      "source": [
        "YRI_sample_group.head(5)"
      ]
    },
    {
      "cell_type": "markdown",
      "source": [
        "**Now we have selected our target genes and individuals, and we have also prepared the relevant files for them to move on to our next scipt where we will preform _gene expression prediction_ using Enformer.**"
      ],
      "metadata": {
        "id": "_td3fRp2qoVe"
      }
    }
  ],
  "metadata": {
    "accelerator": "GPU",
    "colab": {
      "collapsed_sections": [
        "Omj-KERcwSdB"
      ],
      "name": "1. Enformer_Preparation",
      "provenance": [],
      "toc_visible": true,
      "include_colab_link": true
    },
    "kernelspec": {
      "display_name": "Python 3 (ipykernel)",
      "language": "python",
      "name": "python3"
    },
    "language_info": {
      "codemirror_mode": {
        "name": "ipython",
        "version": 3
      },
      "file_extension": ".py",
      "mimetype": "text/x-python",
      "name": "python",
      "nbconvert_exporter": "python",
      "pygments_lexer": "ipython3",
      "version": "3.9.7"
    }
  },
  "nbformat": 4,
  "nbformat_minor": 0
}